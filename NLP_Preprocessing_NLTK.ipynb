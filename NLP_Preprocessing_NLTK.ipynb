{
  "cells": [
    {
      "cell_type": "markdown",
      "metadata": {
        "id": "view-in-github",
        "colab_type": "text"
      },
      "source": [
        "<a href=\"https://colab.research.google.com/github/Hamza-Chekireb/Artificial-Intelligence-Data-Science-Data-Analysis-Portfolio/blob/main/NLP_Preprocessing_NLTK.ipynb\" target=\"_parent\"><img src=\"https://colab.research.google.com/assets/colab-badge.svg\" alt=\"Open In Colab\"/></a>"
      ]
    },
    {
      "cell_type": "code",
      "execution_count": 1,
      "metadata": {
        "id": "quBCLTjbB19g"
      },
      "outputs": [],
      "source": [
        "# Install Tweepy once.\n",
        "# !pip install nltk"
      ]
    },
    {
      "cell_type": "code",
      "execution_count": 2,
      "metadata": {
        "id": "BVRwjK38B19i"
      },
      "outputs": [],
      "source": [
        "import nltk"
      ]
    },
    {
      "cell_type": "code",
      "execution_count": 3,
      "metadata": {
        "id": "zH3Ude4KB19i"
      },
      "outputs": [],
      "source": [
        "# You should download the NLTK data once.\n",
        "# It can be a bit time consuming.\n",
        "# nltk.download()"
      ]
    },
    {
      "cell_type": "markdown",
      "metadata": {
        "id": "Z0smG5EaB19i"
      },
      "source": [
        "### 1. About the NLTK library:"
      ]
    },
    {
      "cell_type": "code",
      "execution_count": 4,
      "metadata": {
        "id": "uhr8zXJ8B19j"
      },
      "outputs": [],
      "source": [
        "#\n",
        "#  From the US president B. Obama's Nov-4th-2008 speech. \n",
        "#\n",
        "\n",
        "paragraph = \"\"\"If there is anyone out there who still doubts that America is a place where all things are possible; who still wonders if the dream of our founders is alive in our time; who still questions the power of our democracy: Tonight is your answer.\n",
        "It's the answer told by lines that stretched around schools and churches in numbers this nation has never seen; by people who waited three hours and four hours, many for the very first time in their lives, because they believed that this time must be different; that their voices could be that difference. \n",
        "It's the answer spoken by young and old, rich and poor, Democrat and Republican, black, white, Hispanic, Asian, Native American, gay, straight, disabled and not disabled -- Americans who sent a message to the world that we have never been just a collection of individuals or a collection of Red States and Blue States: we are, and always will be, the United States of America!\n",
        "It's the answer that -- that led those who have been told for so long by so many to be cynical, and fearful, and doubtful about what we can achieve to put their hands on the arc of history and bend it once more toward the hope of a better day.\n",
        "It's been a long time coming, but tonight, because of what we did on this day, in this election, at this defining moment, change has come to America.\n",
        "A little bit earlier this evening, I received an extraordinarily gracious call from Senator McCain. Senator McCain fought long and hard in this campaign, and he's fought even longer and harder for the country that he loves. He has endured sacrifices for America that most of us cannot begin to imagine. We are better off for the service rendered by this brave and selfless leader. I congratulate him; I congratulate Governor Palin for all that they've achieved, and I look forward to working with them to renew this nation's promise in the months ahead.\n",
        "I want to thank my partner in this journey, a man who campaigned from his heart and spoke for the men and women he grew up with on the streets of Scranton and rode with on the train home to Delaware, the Vice President-elect of the United States, Joe Biden. \"\"\"                  "
      ]
    },
    {
      "cell_type": "markdown",
      "metadata": {
        "id": "lVgunea3B19j"
      },
      "source": [
        "#### 1.1. Tokenization: "
      ]
    },
    {
      "cell_type": "code",
      "execution_count": 6,
      "metadata": {
        "id": "ISBEoflTB19k",
        "colab": {
          "base_uri": "https://localhost:8080/"
        },
        "outputId": "f5628490-098a-43b6-b43e-d79c83065024"
      },
      "outputs": [
        {
          "output_type": "stream",
          "name": "stderr",
          "text": [
            "[nltk_data] Downloading package punkt to /root/nltk_data...\n",
            "[nltk_data]   Unzipping tokenizers/punkt.zip.\n"
          ]
        },
        {
          "output_type": "stream",
          "name": "stdout",
          "text": [
            "['If there is anyone out there who still doubts that America is a place where all things are possible; who still wonders if the dream of our founders is alive in our time; who still questions the power of our democracy: Tonight is your answer.', \"It's the answer told by lines that stretched around schools and churches in numbers this nation has never seen; by people who waited three hours and four hours, many for the very first time in their lives, because they believed that this time must be different; that their voices could be that difference.\", \"It's the answer spoken by young and old, rich and poor, Democrat and Republican, black, white, Hispanic, Asian, Native American, gay, straight, disabled and not disabled -- Americans who sent a message to the world that we have never been just a collection of individuals or a collection of Red States and Blue States: we are, and always will be, the United States of America!\", \"It's the answer that -- that led those who have been told for so long by so many to be cynical, and fearful, and doubtful about what we can achieve to put their hands on the arc of history and bend it once more toward the hope of a better day.\", \"It's been a long time coming, but tonight, because of what we did on this day, in this election, at this defining moment, change has come to America.\", 'A little bit earlier this evening, I received an extraordinarily gracious call from Senator McCain.', \"Senator McCain fought long and hard in this campaign, and he's fought even longer and harder for the country that he loves.\", 'He has endured sacrifices for America that most of us cannot begin to imagine.', 'We are better off for the service rendered by this brave and selfless leader.', \"I congratulate him; I congratulate Governor Palin for all that they've achieved, and I look forward to working with them to renew this nation's promise in the months ahead.\", 'I want to thank my partner in this journey, a man who campaigned from his heart and spoke for the men and women he grew up with on the streets of Scranton and rode with on the train home to Delaware, the Vice President-elect of the United States, Joe Biden.']\n"
          ]
        }
      ],
      "source": [
        "# Tokenize into sentences.\n",
        "nltk.download('punkt')\n",
        "sentences = nltk.sent_tokenize(paragraph)\n",
        "print(sentences)"
      ]
    },
    {
      "cell_type": "code",
      "source": [
        "sentences"
      ],
      "metadata": {
        "colab": {
          "base_uri": "https://localhost:8080/"
        },
        "id": "Gi-3dk02z0Of",
        "outputId": "1573ea7a-816f-4bfe-a18e-980d97cf619b"
      },
      "execution_count": 7,
      "outputs": [
        {
          "output_type": "execute_result",
          "data": {
            "text/plain": [
              "['If there is anyone out there who still doubts that America is a place where all things are possible; who still wonders if the dream of our founders is alive in our time; who still questions the power of our democracy: Tonight is your answer.',\n",
              " \"It's the answer told by lines that stretched around schools and churches in numbers this nation has never seen; by people who waited three hours and four hours, many for the very first time in their lives, because they believed that this time must be different; that their voices could be that difference.\",\n",
              " \"It's the answer spoken by young and old, rich and poor, Democrat and Republican, black, white, Hispanic, Asian, Native American, gay, straight, disabled and not disabled -- Americans who sent a message to the world that we have never been just a collection of individuals or a collection of Red States and Blue States: we are, and always will be, the United States of America!\",\n",
              " \"It's the answer that -- that led those who have been told for so long by so many to be cynical, and fearful, and doubtful about what we can achieve to put their hands on the arc of history and bend it once more toward the hope of a better day.\",\n",
              " \"It's been a long time coming, but tonight, because of what we did on this day, in this election, at this defining moment, change has come to America.\",\n",
              " 'A little bit earlier this evening, I received an extraordinarily gracious call from Senator McCain.',\n",
              " \"Senator McCain fought long and hard in this campaign, and he's fought even longer and harder for the country that he loves.\",\n",
              " 'He has endured sacrifices for America that most of us cannot begin to imagine.',\n",
              " 'We are better off for the service rendered by this brave and selfless leader.',\n",
              " \"I congratulate him; I congratulate Governor Palin for all that they've achieved, and I look forward to working with them to renew this nation's promise in the months ahead.\",\n",
              " 'I want to thank my partner in this journey, a man who campaigned from his heart and spoke for the men and women he grew up with on the streets of Scranton and rode with on the train home to Delaware, the Vice President-elect of the United States, Joe Biden.']"
            ]
          },
          "metadata": {},
          "execution_count": 7
        }
      ]
    },
    {
      "cell_type": "code",
      "execution_count": 8,
      "metadata": {
        "id": "2K0dnizUB19l",
        "colab": {
          "base_uri": "https://localhost:8080/"
        },
        "outputId": "1443a5ec-8564-4533-a93b-2b9bd4d04760"
      },
      "outputs": [
        {
          "output_type": "stream",
          "name": "stdout",
          "text": [
            "['If', 'there', 'is', 'anyone', 'out', 'there', 'who', 'still', 'doubts', 'that', 'America', 'is', 'a', 'place', 'where', 'all', 'things', 'are', 'possible', ';', 'who', 'still', 'wonders', 'if', 'the', 'dream', 'of', 'our', 'founders', 'is', 'alive', 'in', 'our', 'time', ';', 'who', 'still', 'questions', 'the', 'power', 'of', 'our', 'democracy', ':', 'Tonight', 'is', 'your', 'answer', '.', 'It', \"'s\", 'the', 'answer', 'told', 'by', 'lines', 'that', 'stretched', 'around', 'schools', 'and', 'churches', 'in', 'numbers', 'this', 'nation', 'has', 'never', 'seen', ';', 'by', 'people', 'who', 'waited', 'three', 'hours', 'and', 'four', 'hours', ',', 'many', 'for', 'the', 'very', 'first', 'time', 'in', 'their', 'lives', ',', 'because', 'they', 'believed', 'that', 'this', 'time', 'must', 'be', 'different', ';', 'that', 'their', 'voices', 'could', 'be', 'that', 'difference', '.', 'It', \"'s\", 'the', 'answer', 'spoken', 'by', 'young', 'and', 'old', ',', 'rich', 'and', 'poor', ',', 'Democrat', 'and', 'Republican', ',', 'black', ',', 'white', ',', 'Hispanic', ',', 'Asian', ',', 'Native', 'American', ',', 'gay', ',', 'straight', ',', 'disabled', 'and', 'not', 'disabled', '--', 'Americans', 'who', 'sent', 'a', 'message', 'to', 'the', 'world', 'that', 'we', 'have', 'never', 'been', 'just', 'a', 'collection', 'of', 'individuals', 'or', 'a', 'collection', 'of', 'Red', 'States', 'and', 'Blue', 'States', ':', 'we', 'are', ',', 'and', 'always', 'will', 'be', ',', 'the', 'United', 'States', 'of', 'America', '!', 'It', \"'s\", 'the', 'answer', 'that', '--', 'that', 'led', 'those', 'who', 'have', 'been', 'told', 'for', 'so', 'long', 'by', 'so', 'many', 'to', 'be', 'cynical', ',', 'and', 'fearful', ',', 'and', 'doubtful', 'about', 'what', 'we', 'can', 'achieve', 'to', 'put', 'their', 'hands', 'on', 'the', 'arc', 'of', 'history', 'and', 'bend', 'it', 'once', 'more', 'toward', 'the', 'hope', 'of', 'a', 'better', 'day', '.', 'It', \"'s\", 'been', 'a', 'long', 'time', 'coming', ',', 'but', 'tonight', ',', 'because', 'of', 'what', 'we', 'did', 'on', 'this', 'day', ',', 'in', 'this', 'election', ',', 'at', 'this', 'defining', 'moment', ',', 'change', 'has', 'come', 'to', 'America', '.', 'A', 'little', 'bit', 'earlier', 'this', 'evening', ',', 'I', 'received', 'an', 'extraordinarily', 'gracious', 'call', 'from', 'Senator', 'McCain', '.', 'Senator', 'McCain', 'fought', 'long', 'and', 'hard', 'in', 'this', 'campaign', ',', 'and', 'he', \"'s\", 'fought', 'even', 'longer', 'and', 'harder', 'for', 'the', 'country', 'that', 'he', 'loves', '.', 'He', 'has', 'endured', 'sacrifices', 'for', 'America', 'that', 'most', 'of', 'us', 'can', 'not', 'begin', 'to', 'imagine', '.', 'We', 'are', 'better', 'off', 'for', 'the', 'service', 'rendered', 'by', 'this', 'brave', 'and', 'selfless', 'leader', '.', 'I', 'congratulate', 'him', ';', 'I', 'congratulate', 'Governor', 'Palin', 'for', 'all', 'that', 'they', \"'ve\", 'achieved', ',', 'and', 'I', 'look', 'forward', 'to', 'working', 'with', 'them', 'to', 'renew', 'this', 'nation', \"'s\", 'promise', 'in', 'the', 'months', 'ahead', '.', 'I', 'want', 'to', 'thank', 'my', 'partner', 'in', 'this', 'journey', ',', 'a', 'man', 'who', 'campaigned', 'from', 'his', 'heart', 'and', 'spoke', 'for', 'the', 'men', 'and', 'women', 'he', 'grew', 'up', 'with', 'on', 'the', 'streets', 'of', 'Scranton', 'and', 'rode', 'with', 'on', 'the', 'train', 'home', 'to', 'Delaware', ',', 'the', 'Vice', 'President-elect', 'of', 'the', 'United', 'States', ',', 'Joe', 'Biden', '.']\n"
          ]
        }
      ],
      "source": [
        "# Tokenize into words.\n",
        "words = nltk.word_tokenize(paragraph)\n",
        "print(words)"
      ]
    },
    {
      "cell_type": "markdown",
      "metadata": {
        "id": "wsm_XQgUB19l"
      },
      "source": [
        "#### 1.2. Stemming:"
      ]
    },
    {
      "cell_type": "code",
      "execution_count": 9,
      "metadata": {
        "id": "W8ET5PnYB19m"
      },
      "outputs": [],
      "source": [
        "from nltk.stem import PorterStemmer, LancasterStemmer, SnowballStemmer\n",
        "# Pick one of the following stemmers.\n",
        "#stemmer = SnowballStemmer('english')\n",
        "#stemmer = LancasterStemmer()\n",
        "stemmer = PorterStemmer()"
      ]
    },
    {
      "cell_type": "code",
      "execution_count": 10,
      "metadata": {
        "id": "Dd8MajEHB19m"
      },
      "outputs": [],
      "source": [
        "# Stemming.\n",
        "for i in range(len(sentences)):\n",
        "    words = nltk.word_tokenize(sentences[i])               # Tokenize into words.\n",
        "    words = [stemmer.stem(x) for x in words]               # Stemming.\n",
        "    sentences[i] = ' '.join(words)                         # Rejoin the words as a sentence."
      ]
    },
    {
      "cell_type": "code",
      "execution_count": null,
      "metadata": {
        "id": "ElHRamJ7B19m"
      },
      "outputs": [],
      "source": [
        "print(sentences)"
      ]
    },
    {
      "cell_type": "code",
      "source": [
        "sentences"
      ],
      "metadata": {
        "colab": {
          "base_uri": "https://localhost:8080/"
        },
        "id": "YL-9mLcE0eas",
        "outputId": "b05e16ab-ceb0-48dd-f662-d09e8cd2ad82"
      },
      "execution_count": 11,
      "outputs": [
        {
          "output_type": "execute_result",
          "data": {
            "text/plain": [
              "['if there is anyon out there who still doubt that america is a place where all thing are possibl ; who still wonder if the dream of our founder is aliv in our time ; who still question the power of our democraci : tonight is your answer .',\n",
              " \"it 's the answer told by line that stretch around school and church in number thi nation ha never seen ; by peopl who wait three hour and four hour , mani for the veri first time in their live , becaus they believ that thi time must be differ ; that their voic could be that differ .\",\n",
              " \"it 's the answer spoken by young and old , rich and poor , democrat and republican , black , white , hispan , asian , nativ american , gay , straight , disabl and not disabl -- american who sent a messag to the world that we have never been just a collect of individu or a collect of red state and blue state : we are , and alway will be , the unit state of america !\",\n",
              " \"it 's the answer that -- that led those who have been told for so long by so mani to be cynic , and fear , and doubt about what we can achiev to put their hand on the arc of histori and bend it onc more toward the hope of a better day .\",\n",
              " \"it 's been a long time come , but tonight , becaus of what we did on thi day , in thi elect , at thi defin moment , chang ha come to america .\",\n",
              " 'a littl bit earlier thi even , i receiv an extraordinarili graciou call from senat mccain .',\n",
              " \"senat mccain fought long and hard in thi campaign , and he 's fought even longer and harder for the countri that he love .\",\n",
              " 'he ha endur sacrific for america that most of us can not begin to imagin .',\n",
              " 'we are better off for the servic render by thi brave and selfless leader .',\n",
              " \"i congratul him ; i congratul governor palin for all that they 've achiev , and i look forward to work with them to renew thi nation 's promis in the month ahead .\",\n",
              " 'i want to thank my partner in thi journey , a man who campaign from hi heart and spoke for the men and women he grew up with on the street of scranton and rode with on the train home to delawar , the vice president-elect of the unit state , joe biden .']"
            ]
          },
          "metadata": {},
          "execution_count": 11
        }
      ]
    },
    {
      "cell_type": "code",
      "execution_count": 12,
      "metadata": {
        "id": "Fr-HcFGpB19n",
        "colab": {
          "base_uri": "https://localhost:8080/",
          "height": 35
        },
        "outputId": "8a424b40-394f-40e8-f0fa-366b5a869451"
      },
      "outputs": [
        {
          "output_type": "execute_result",
          "data": {
            "text/plain": [
              "'work'"
            ],
            "application/vnd.google.colaboratory.intrinsic+json": {
              "type": "string"
            }
          },
          "metadata": {},
          "execution_count": 12
        }
      ],
      "source": [
        "stemmer.stem(\"worked\")"
      ]
    },
    {
      "cell_type": "code",
      "execution_count": 13,
      "metadata": {
        "id": "REi7JxlsB19n",
        "colab": {
          "base_uri": "https://localhost:8080/",
          "height": 35
        },
        "outputId": "d5dc3627-5a06-4c89-d2c1-b46baf444bd4"
      },
      "outputs": [
        {
          "output_type": "execute_result",
          "data": {
            "text/plain": [
              "'cri'"
            ],
            "application/vnd.google.colaboratory.intrinsic+json": {
              "type": "string"
            }
          },
          "metadata": {},
          "execution_count": 13
        }
      ],
      "source": [
        "stemmer.stem(\"cried\")"
      ]
    },
    {
      "cell_type": "code",
      "execution_count": 14,
      "metadata": {
        "id": "icNlKRFBB19n",
        "colab": {
          "base_uri": "https://localhost:8080/",
          "height": 35
        },
        "outputId": "d5175dfb-ca18-45fe-d359-3cbd9a52cead"
      },
      "outputs": [
        {
          "output_type": "execute_result",
          "data": {
            "text/plain": [
              "'remembr'"
            ],
            "application/vnd.google.colaboratory.intrinsic+json": {
              "type": "string"
            }
          },
          "metadata": {},
          "execution_count": 14
        }
      ],
      "source": [
        "stemmer.stem(\"remembrance\")"
      ]
    },
    {
      "cell_type": "code",
      "execution_count": 15,
      "metadata": {
        "id": "BdD0FWuGB19n",
        "colab": {
          "base_uri": "https://localhost:8080/",
          "height": 35
        },
        "outputId": "ff0175f8-7924-4193-b0d7-b70c0a6e2e31"
      },
      "outputs": [
        {
          "output_type": "execute_result",
          "data": {
            "text/plain": [
              "'happili'"
            ],
            "application/vnd.google.colaboratory.intrinsic+json": {
              "type": "string"
            }
          },
          "metadata": {},
          "execution_count": 15
        }
      ],
      "source": [
        "stemmer.stem(\"happily\")"
      ]
    },
    {
      "cell_type": "markdown",
      "metadata": {
        "id": "ofeTUes1B19n"
      },
      "source": [
        "#### 1.3. Lemmatization:"
      ]
    },
    {
      "cell_type": "code",
      "execution_count": 16,
      "metadata": {
        "id": "8ToLyb_iB19o"
      },
      "outputs": [],
      "source": [
        "from nltk.stem import WordNetLemmatizer\n",
        "from nltk.corpus import wordnet\n",
        "lemmatizer = WordNetLemmatizer()"
      ]
    },
    {
      "cell_type": "code",
      "execution_count": 17,
      "metadata": {
        "id": "GeOiQZqPB19o"
      },
      "outputs": [],
      "source": [
        "# Reset to the original sentences.\n",
        "sentences = nltk.sent_tokenize(paragraph)"
      ]
    },
    {
      "cell_type": "code",
      "execution_count": 20,
      "metadata": {
        "id": "hG8VCrJiB19o",
        "colab": {
          "base_uri": "https://localhost:8080/"
        },
        "outputId": "95733ec7-10d7-4ddf-9f90-02e2a422795b"
      },
      "outputs": [
        {
          "output_type": "stream",
          "name": "stderr",
          "text": [
            "[nltk_data] Downloading package wordnet to /root/nltk_data...\n",
            "[nltk_data]   Package wordnet is already up-to-date!\n",
            "[nltk_data] Downloading package omw-1.4 to /root/nltk_data...\n"
          ]
        }
      ],
      "source": [
        "# Lemmatization.\n",
        "nltk.download('wordnet')\n",
        "nltk.download('omw-1.4')\n",
        "for i in range(len(sentences)):\n",
        "    words = nltk.word_tokenize(sentences[i])              # Tokenize into words.\n",
        "    words = [lemmatizer.lemmatize(x) for x in words]      # Lemmatization. \n",
        "    sentences[i] = ' '.join(words)                        # Rejoin the words as a sentence."
      ]
    },
    {
      "cell_type": "code",
      "execution_count": null,
      "metadata": {
        "id": "ZJUmY-bfB19o"
      },
      "outputs": [],
      "source": [
        "print(sentences)"
      ]
    },
    {
      "cell_type": "code",
      "source": [
        "sentences"
      ],
      "metadata": {
        "colab": {
          "base_uri": "https://localhost:8080/"
        },
        "id": "ieTeFaBi3-fR",
        "outputId": "5d31ec26-8748-42a8-b7b6-320bcbfd6cdc"
      },
      "execution_count": 21,
      "outputs": [
        {
          "output_type": "execute_result",
          "data": {
            "text/plain": [
              "['If there is anyone out there who still doubt that America is a place where all thing are possible ; who still wonder if the dream of our founder is alive in our time ; who still question the power of our democracy : Tonight is your answer .',\n",
              " \"It 's the answer told by line that stretched around school and church in number this nation ha never seen ; by people who waited three hour and four hour , many for the very first time in their life , because they believed that this time must be different ; that their voice could be that difference .\",\n",
              " \"It 's the answer spoken by young and old , rich and poor , Democrat and Republican , black , white , Hispanic , Asian , Native American , gay , straight , disabled and not disabled -- Americans who sent a message to the world that we have never been just a collection of individual or a collection of Red States and Blue States : we are , and always will be , the United States of America !\",\n",
              " \"It 's the answer that -- that led those who have been told for so long by so many to be cynical , and fearful , and doubtful about what we can achieve to put their hand on the arc of history and bend it once more toward the hope of a better day .\",\n",
              " \"It 's been a long time coming , but tonight , because of what we did on this day , in this election , at this defining moment , change ha come to America .\",\n",
              " 'A little bit earlier this evening , I received an extraordinarily gracious call from Senator McCain .',\n",
              " \"Senator McCain fought long and hard in this campaign , and he 's fought even longer and harder for the country that he love .\",\n",
              " 'He ha endured sacrifice for America that most of u can not begin to imagine .',\n",
              " 'We are better off for the service rendered by this brave and selfless leader .',\n",
              " \"I congratulate him ; I congratulate Governor Palin for all that they 've achieved , and I look forward to working with them to renew this nation 's promise in the month ahead .\",\n",
              " 'I want to thank my partner in this journey , a man who campaigned from his heart and spoke for the men and woman he grew up with on the street of Scranton and rode with on the train home to Delaware , the Vice President-elect of the United States , Joe Biden .']"
            ]
          },
          "metadata": {},
          "execution_count": 21
        }
      ]
    },
    {
      "cell_type": "markdown",
      "metadata": {
        "id": "nTgAehPnB19o"
      },
      "source": [
        "Some more examples with the POS tags specified."
      ]
    },
    {
      "cell_type": "code",
      "execution_count": 22,
      "metadata": {
        "id": "hfc9hxC9B19o",
        "colab": {
          "base_uri": "https://localhost:8080/",
          "height": 35
        },
        "outputId": "ae5a56f4-a573-42dc-c4b5-8ed032c4ed01"
      },
      "outputs": [
        {
          "output_type": "execute_result",
          "data": {
            "text/plain": [
              "'dog'"
            ],
            "application/vnd.google.colaboratory.intrinsic+json": {
              "type": "string"
            }
          },
          "metadata": {},
          "execution_count": 22
        }
      ],
      "source": [
        "lemmatizer.lemmatize(\"dogs\",wordnet.NOUN)    "
      ]
    },
    {
      "cell_type": "code",
      "execution_count": 23,
      "metadata": {
        "id": "YrxZa_l7B19p",
        "colab": {
          "base_uri": "https://localhost:8080/",
          "height": 35
        },
        "outputId": "fb35ec39-84e3-4689-9764-ba93475cdff9"
      },
      "outputs": [
        {
          "output_type": "execute_result",
          "data": {
            "text/plain": [
              "'wolf'"
            ],
            "application/vnd.google.colaboratory.intrinsic+json": {
              "type": "string"
            }
          },
          "metadata": {},
          "execution_count": 23
        }
      ],
      "source": [
        "lemmatizer.lemmatize(\"wolves\", wordnet.NOUN)"
      ]
    },
    {
      "cell_type": "code",
      "execution_count": 24,
      "metadata": {
        "id": "QF5O2UC2B19p",
        "colab": {
          "base_uri": "https://localhost:8080/",
          "height": 35
        },
        "outputId": "c40b03c9-fb96-471e-a77b-49f4477f7a44"
      },
      "outputs": [
        {
          "output_type": "execute_result",
          "data": {
            "text/plain": [
              "'have'"
            ],
            "application/vnd.google.colaboratory.intrinsic+json": {
              "type": "string"
            }
          },
          "metadata": {},
          "execution_count": 24
        }
      ],
      "source": [
        "lemmatizer.lemmatize(\"has\",wordnet.VERB)"
      ]
    },
    {
      "cell_type": "code",
      "execution_count": 25,
      "metadata": {
        "id": "ANinx_LgB19p",
        "colab": {
          "base_uri": "https://localhost:8080/",
          "height": 35
        },
        "outputId": "cf938f1a-0d52-44ed-fd28-6dbc91174e89"
      },
      "outputs": [
        {
          "output_type": "execute_result",
          "data": {
            "text/plain": [
              "'helpful'"
            ],
            "application/vnd.google.colaboratory.intrinsic+json": {
              "type": "string"
            }
          },
          "metadata": {},
          "execution_count": 25
        }
      ],
      "source": [
        "lemmatizer.lemmatize(\"helpful\", wordnet.ADJ)"
      ]
    },
    {
      "cell_type": "code",
      "execution_count": 26,
      "metadata": {
        "id": "T6ZgwlD-B19p",
        "colab": {
          "base_uri": "https://localhost:8080/",
          "height": 35
        },
        "outputId": "8e06582c-7764-4179-82ee-6686d14c8f7a"
      },
      "outputs": [
        {
          "output_type": "execute_result",
          "data": {
            "text/plain": [
              "'happily'"
            ],
            "application/vnd.google.colaboratory.intrinsic+json": {
              "type": "string"
            }
          },
          "metadata": {},
          "execution_count": 26
        }
      ],
      "source": [
        "lemmatizer.lemmatize(\"happily\", wordnet.ADV)"
      ]
    },
    {
      "cell_type": "code",
      "execution_count": null,
      "metadata": {
        "id": "3rJbBXl-B19p"
      },
      "outputs": [],
      "source": []
    },
    {
      "cell_type": "code",
      "execution_count": null,
      "metadata": {
        "id": "JuWtCB3rB19p"
      },
      "outputs": [],
      "source": [
        "import nltk\n",
        "import re"
      ]
    },
    {
      "cell_type": "code",
      "execution_count": null,
      "metadata": {
        "id": "-dg8Jj6qB19p"
      },
      "outputs": [],
      "source": [
        "# You should download the NLTK data once.\n",
        "# It can be a bit time consuming.\n",
        "# nltk.download()"
      ]
    },
    {
      "cell_type": "markdown",
      "metadata": {
        "id": "zwwDVw9KB19q"
      },
      "source": [
        "### 1. More about the NLTK library:"
      ]
    },
    {
      "cell_type": "code",
      "execution_count": 27,
      "metadata": {
        "id": "yeuXV_wzB19q"
      },
      "outputs": [],
      "source": [
        "#\n",
        "#  From the US president B. Obama's Nov-4th-2008 speech. \n",
        "#\n",
        "\n",
        "paragraph = \"\"\"If there is anyone out there who still doubts that America is a place where all things are possible; who still wonders if the dream of our founders is alive in our time; who still questions the power of our democracy: Tonight is your answer.\n",
        "It's the answer told by lines that stretched around schools and churches in numbers this nation has never seen; by people who waited three hours and four hours, many for the very first time in their lives, because they believed that this time must be different; that their voices could be that difference. \n",
        "It's the answer spoken by young and old, rich and poor, Democrat and Republican, black, white, Hispanic, Asian, Native American, gay, straight, disabled and not disabled -- Americans who sent a message to the world that we have never been just a collection of individuals or a collection of Red States and Blue States: we are, and always will be, the United States of America!\n",
        "It's the answer that -- that led those who have been told for so long by so many to be cynical, and fearful, and doubtful about what we can achieve to put their hands on the arc of history and bend it once more toward the hope of a better day.\n",
        "It's been a long time coming, but tonight, because of what we did on this day, in this election, at this defining moment, change has come to America.\n",
        "A little bit earlier this evening, I received an extraordinarily gracious call from Senator McCain. Senator McCain fought long and hard in this campaign, and he's fought even longer and harder for the country that he loves. He has endured sacrifices for America that most of us cannot begin to imagine. We are better off for the service rendered by this brave and selfless leader. I congratulate him; I congratulate Governor Palin for all that they've achieved, and I look forward to working with them to renew this nation's promise in the months ahead.\n",
        "I want to thank my partner in this journey, a man who campaigned from his heart and spoke for the men and women he grew up with on the streets of Scranton and rode with on the train home to Delaware, the Vice President-elect of the United States, Joe Biden. \"\"\"                  "
      ]
    },
    {
      "cell_type": "markdown",
      "metadata": {
        "id": "EgwTj_6mB19q"
      },
      "source": [
        "#### 1.1. Tokenization and pre-processing:"
      ]
    },
    {
      "cell_type": "code",
      "execution_count": null,
      "metadata": {
        "id": "aPRYKQ9HB19q"
      },
      "outputs": [],
      "source": [
        "# Tokenize into sentences.\n",
        "sentences = nltk.sent_tokenize(paragraph)\n",
        "for i in range(len(sentences)):\n",
        "    sentences[i] = sentences[i].lower()\n",
        "    sentences[i] = re.sub(r'\\W',' ',sentences[i])            # Substitute the non-alphanumeric characters with space. \n",
        "    sentences[i] = re.sub(r'\\s+',' ',sentences[i])           # Remove the excess of white spaces.\n",
        "    sentences[i] = re.sub(r'\\s$','',sentences[i])            # Remove the space at the end of a sentence.\n",
        "print(sentences)"
      ]
    },
    {
      "cell_type": "markdown",
      "metadata": {
        "id": "XuJR1W17B19q"
      },
      "source": [
        "#### 1.2. Removal of the stop words: "
      ]
    },
    {
      "cell_type": "code",
      "execution_count": 28,
      "metadata": {
        "id": "56lCSng8B19q"
      },
      "outputs": [],
      "source": [
        "from nltk.corpus import stopwords"
      ]
    },
    {
      "cell_type": "code",
      "execution_count": 30,
      "metadata": {
        "id": "Fm2dNHwbB19q",
        "colab": {
          "base_uri": "https://localhost:8080/"
        },
        "outputId": "a932881c-94bf-4657-c6f6-355f402aee2c"
      },
      "outputs": [
        {
          "output_type": "stream",
          "name": "stderr",
          "text": [
            "[nltk_data] Downloading package stopwords to /root/nltk_data...\n",
            "[nltk_data]   Unzipping corpora/stopwords.zip.\n"
          ]
        }
      ],
      "source": [
        "nltk.download('stopwords')\n",
        "for i in range(len(sentences)):\n",
        "    words = nltk.word_tokenize(sentences[i])                                   # Tokenize into words.\n",
        "    words = [x for x in words if x not in stopwords.words('english')]         # Remove the stop words.\n",
        "    sentences[i] = ' '.join(words)                                             # Rejoin as a sentence."
      ]
    },
    {
      "cell_type": "code",
      "execution_count": 31,
      "metadata": {
        "id": "ZmE9PxPaB19r",
        "colab": {
          "base_uri": "https://localhost:8080/"
        },
        "outputId": "b4093c82-cdb7-4e5d-c1f8-8d1eef88168b"
      },
      "outputs": [
        {
          "output_type": "stream",
          "name": "stdout",
          "text": [
            "['If anyone still doubt America place thing possible ; still wonder dream founder alive time ; still question power democracy : Tonight answer .', \"It 's answer told line stretched around school church number nation ha never seen ; people waited three hour four hour , many first time life , believed time must different ; voice could difference .\", \"It 's answer spoken young old , rich poor , Democrat Republican , black , white , Hispanic , Asian , Native American , gay , straight , disabled disabled -- Americans sent message world never collection individual collection Red States Blue States : , always , United States America !\", \"It 's answer -- led told long many cynical , fearful , doubtful achieve put hand arc history bend toward hope better day .\", \"It 's long time coming , tonight , day , election , defining moment , change ha come America .\", 'A little bit earlier evening , I received extraordinarily gracious call Senator McCain .', \"Senator McCain fought long hard campaign , 's fought even longer harder country love .\", 'He ha endured sacrifice America u begin imagine .', 'We better service rendered brave selfless leader .', \"I congratulate ; I congratulate Governor Palin 've achieved , I look forward working renew nation 's promise month ahead .\", 'I want thank partner journey , man campaigned heart spoke men woman grew street Scranton rode train home Delaware , Vice President-elect United States , Joe Biden .']\n"
          ]
        },
        {
          "output_type": "execute_result",
          "data": {
            "text/plain": [
              "['If anyone still doubt America place thing possible ; still wonder dream founder alive time ; still question power democracy : Tonight answer .',\n",
              " \"It 's answer told line stretched around school church number nation ha never seen ; people waited three hour four hour , many first time life , believed time must different ; voice could difference .\",\n",
              " \"It 's answer spoken young old , rich poor , Democrat Republican , black , white , Hispanic , Asian , Native American , gay , straight , disabled disabled -- Americans sent message world never collection individual collection Red States Blue States : , always , United States America !\",\n",
              " \"It 's answer -- led told long many cynical , fearful , doubtful achieve put hand arc history bend toward hope better day .\",\n",
              " \"It 's long time coming , tonight , day , election , defining moment , change ha come America .\",\n",
              " 'A little bit earlier evening , I received extraordinarily gracious call Senator McCain .',\n",
              " \"Senator McCain fought long hard campaign , 's fought even longer harder country love .\",\n",
              " 'He ha endured sacrifice America u begin imagine .',\n",
              " 'We better service rendered brave selfless leader .',\n",
              " \"I congratulate ; I congratulate Governor Palin 've achieved , I look forward working renew nation 's promise month ahead .\",\n",
              " 'I want thank partner journey , man campaigned heart spoke men woman grew street Scranton rode train home Delaware , Vice President-elect United States , Joe Biden .']"
            ]
          },
          "metadata": {},
          "execution_count": 31
        }
      ],
      "source": [
        "print(sentences)\n",
        "sentences"
      ]
    },
    {
      "cell_type": "markdown",
      "metadata": {
        "id": "Aj0JGENGB19r"
      },
      "source": [
        "#### 1.3. POS tagging:"
      ]
    },
    {
      "cell_type": "code",
      "execution_count": null,
      "metadata": {
        "id": "-EvquWDHB19r"
      },
      "outputs": [],
      "source": [
        "# Test sentence.\n",
        "my_sentence = \"The Colosseum was built by the emperor Vespassian\""
      ]
    },
    {
      "cell_type": "code",
      "execution_count": null,
      "metadata": {
        "id": "R_UzspWOB19r"
      },
      "outputs": [],
      "source": [
        "# Simple pre-processing.\n",
        "my_words = nltk.word_tokenize(my_sentence)\n",
        "for i in range(len(my_words)):\n",
        "    my_words[i] = my_words[i].lower()\n",
        "my_words"
      ]
    },
    {
      "cell_type": "code",
      "execution_count": null,
      "metadata": {
        "id": "dBwrDaFJB19r"
      },
      "outputs": [],
      "source": [
        "# POS tagging.\n",
        "# OUTPUT: A list of tuples.\n",
        "my_words_tagged = nltk.pos_tag(my_words)\n",
        "my_words_tagged"
      ]
    },
    {
      "cell_type": "code",
      "execution_count": null,
      "metadata": {
        "id": "B57tcwtlB19r"
      },
      "outputs": [],
      "source": [
        "# Join the words + POS as a sentence.\n",
        "my_words_tagged2 = []\n",
        "for tw in my_words_tagged:\n",
        "    my_words_tagged2.append(tw[0] + '(' + tw[1] + ')')\n",
        "my_sentence_tagged = ' '.join(my_words_tagged2)\n",
        "my_sentence_tagged"
      ]
    },
    {
      "cell_type": "code",
      "execution_count": null,
      "metadata": {
        "id": "DXMj5-n0B19s"
      },
      "outputs": [],
      "source": []
    }
  ],
  "metadata": {
    "kernelspec": {
      "display_name": "Python 3",
      "language": "python",
      "name": "python3"
    },
    "language_info": {
      "codemirror_mode": {
        "name": "ipython",
        "version": 3
      },
      "file_extension": ".py",
      "mimetype": "text/x-python",
      "name": "python",
      "nbconvert_exporter": "python",
      "pygments_lexer": "ipython3",
      "version": "3.8.8"
    },
    "colab": {
      "provenance": [],
      "include_colab_link": true
    }
  },
  "nbformat": 4,
  "nbformat_minor": 0
}