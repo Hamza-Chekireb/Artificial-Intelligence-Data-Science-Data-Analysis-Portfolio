{
  "nbformat": 4,
  "nbformat_minor": 0,
  "metadata": {
    "colab": {
      "provenance": [],
      "authorship_tag": "ABX9TyNf2XxCswJReS0w3Qeeqd/1",
      "include_colab_link": true
    },
    "kernelspec": {
      "name": "python3",
      "display_name": "Python 3"
    },
    "language_info": {
      "name": "python"
    }
  },
  "cells": [
    {
      "cell_type": "markdown",
      "metadata": {
        "id": "view-in-github",
        "colab_type": "text"
      },
      "source": [
        "<a href=\"https://colab.research.google.com/github/Hamza-Chekireb/Artificial-Intelligence-Data-Science-Data-Analysis-Portfolio/blob/main/How%20to%20Build%20a%20Random%20Forest%20Classifier%20for%20the%20Iris%20Dataset%20using%20scikit-learn%20in%20Python.ipynb\" target=\"_parent\"><img src=\"https://colab.research.google.com/assets/colab-badge.svg\" alt=\"Open In Colab\"/></a>"
      ]
    },
    {
      "cell_type": "markdown",
      "source": [
        "**Exercice**\n",
        "1. Load the iris dataset from scikit-learn.\n",
        "\n",
        "2. Split the data into training and test sets.\n",
        "\n",
        "3. Train a Random Forest classifier on the training set with 100 decision trees.\n",
        "4. Use the trained model to make predictions on the test set.\n",
        "5. Calculate and print the accuracy score of the model.\n",
        "6. Display the confusion matrix."
      ],
      "metadata": {
        "id": "3rEl3bWFbB9B"
      }
    },
    {
      "cell_type": "code",
      "source": [
        "from sklearn.datasets import load_iris\n",
        "from sklearn.model_selection import train_test_split\n",
        "from sklearn.ensemble import RandomForestClassifier\n",
        "from sklearn.metrics import accuracy_score, confusion_matrix\n",
        "\n",
        "# Load the Iris dataset\n",
        "iris = load_iris()\n",
        "\n",
        "# Split the data into training and test sets\n",
        "X_train, X_test, y_train, y_test = train_test_split(iris.data, iris.target, test_size=0.2, random_state=42)\n",
        "\n",
        "# Train the random forest model\n",
        "rfc = RandomForestClassifier(n_estimators=100, random_state=42)\n",
        "rfc.fit(X_train, y_train)\n",
        "\n",
        "# Make predictions on the test set\n",
        "y_pred = rfc.predict(X_test)\n",
        "\n",
        "# Calculate the accuracy score\n",
        "accuracy = accuracy_score(y_test, y_pred)\n",
        "print(\"Accuracy score: {:.2f}\".format(accuracy))\n",
        "\n",
        "# Display the confusion matrix\n",
        "cm = confusion_matrix(y_test, y_pred)\n",
        "print(\"Confusion matrix:\")\n",
        "print(cm)\n"
      ],
      "metadata": {
        "colab": {
          "base_uri": "https://localhost:8080/"
        },
        "id": "zskl_EZUbTvb",
        "outputId": "1194a97d-e03a-4a8b-f4c8-1201cc4e404c"
      },
      "execution_count": 1,
      "outputs": [
        {
          "output_type": "stream",
          "name": "stdout",
          "text": [
            "Accuracy score: 1.00\n",
            "Confusion matrix:\n",
            "[[10  0  0]\n",
            " [ 0  9  0]\n",
            " [ 0  0 11]]\n"
          ]
        }
      ]
    },
    {
      "cell_type": "markdown",
      "source": [
        "This solution splits the data into a training set and a test set using the ***train_test_split*** function.\n",
        "\n",
        " It then creates a **RandomForestClassifier** object with **100 decision trees** and trains the model on the training set. \n",
        "\n",
        "It uses the model to make predictions on the test set and calculates the accuracy score and confusion matrix using the ***accuracy_score*** and ***confusion_matrix*** functions from scikit-learn.\n",
        "\n",
        "Note that the accuracy score and confusion matrix may vary slightly with each execution due to the random sampling used to split the data into training and test sets."
      ],
      "metadata": {
        "id": "XfBfVNv3bgYt"
      }
    },
    {
      "cell_type": "code",
      "source": [],
      "metadata": {
        "id": "zsb42kr1bZo6"
      },
      "execution_count": null,
      "outputs": []
    }
  ]
}