{
  "nbformat": 4,
  "nbformat_minor": 0,
  "metadata": {
    "colab": {
      "provenance": [],
      "authorship_tag": "ABX9TyMIVpTkKirP5eQhhHNlu7n2",
      "include_colab_link": true
    },
    "kernelspec": {
      "name": "python3",
      "display_name": "Python 3"
    },
    "language_info": {
      "name": "python"
    }
  },
  "cells": [
    {
      "cell_type": "markdown",
      "metadata": {
        "id": "view-in-github",
        "colab_type": "text"
      },
      "source": [
        "<a href=\"https://colab.research.google.com/github/Hamza-Chekireb/Artificial-Intelligence-Data-Science-Data-Analysis-Portfolio/blob/main/Python_Data_Analysis_Exercise_Clustering_with_K_Means_Algorithm.ipynb\" target=\"_parent\"><img src=\"https://colab.research.google.com/assets/colab-badge.svg\" alt=\"Open In Colab\"/></a>"
      ]
    },
    {
      "cell_type": "markdown",
      "source": [
        "1. Import the numpy library and the matplotlib.pyplot library with the aliases np and plt, respectively.\n",
        "\n",
        "\n",
        "2. Use the np.random.rand() function to generate a 100-by-2 array X containing random values between 0 and 1.\n",
        "\n",
        "3. Import the KMeans class from the sklearn.cluster library.\n",
        "Initialize a kmeans object from the KMeans class with n_clusters argument set to 3.\n",
        "\n",
        "4. Train the kmeans model on the X data using the fit() method.\n",
        "Use the predict() method to predict the clusters for each data point in X and store the result in a variable y_kmeans.\n",
        "\n",
        "5. Display the clusters and the data on a graph using the plt.scatter() function. Use the values from the first column of X for the x-axis, the values from the second column of X for the y-axis, and the variable y_kmeans for the color of each point.\n",
        "\n",
        "6. Display the centers of the clusters on the same graph using the plt.scatter() function. Use the values from the first column of centers for the x-axis, the values from the second column of centers for the y-axis, the color black (c='black') for the color of the points, and a size of 200 (s=200).\n",
        "\n",
        "7. Add labels for the axes using the plt.xlabel() and plt.ylabel() functions.\n",
        "Display the graph using the plt.show() function.\n",
        "\n",
        "\n",
        "\n"
      ],
      "metadata": {
        "id": "3kdr3yCzbUUP"
      }
    },
    {
      "cell_type": "code",
      "execution_count": null,
      "metadata": {
        "id": "2ANJuMXwPo0X"
      },
      "outputs": [],
      "source": [
        "import numpy as np\n",
        "import matplotlib.pyplot as plt\n",
        "from sklearn.cluster import KMeans\n",
        "\n",
        "# créer des données aléatoires\n",
        "X = np.random.rand(100, 2)\n",
        "\n",
        "# initialiser k-means avec 3 clusters\n",
        "kmeans = KMeans(n_clusters=3)\n",
        "\n",
        "# entraîner le modèle sur les données\n",
        "kmeans.fit(X)\n",
        "\n",
        "# prédire les clusters pour chaque point de données\n",
        "y_kmeans = kmeans.predict(X)\n",
        "\n",
        "# afficher les clusters et les données sur un graphique\n",
        "plt.scatter(X[:, 0], X[:, 1], c=y_kmeans, s=50, cmap='viridis')\n",
        "\n",
        "# afficher les centres des clusters\n",
        "centers = kmeans.cluster_centers_\n",
        "plt.scatter(centers[:, 0], centers[:, 1], c='black', s=200, alpha=0.5)\n",
        "\n",
        "# ajouter des labels pour les axes\n",
        "plt.xlabel('X')\n",
        "plt.ylabel('Y')\n",
        "\n",
        "# afficher le graphique\n",
        "plt.show()\n"
      ]
    },
    {
      "cell_type": "markdown",
      "source": [
        "The above code uses the NumPy library, the Matplotlib library, and the KMeans class from the Scikit-Learn library to perform clustering analysis on random 2D data.\n",
        "\n",
        "The first line generates random data using the NumPy random.rand() function. This data is stored in a 100x2 matrix X.\n",
        "\n",
        "The second line initializes a KMeans object with 3 clusters.\n",
        "\n",
        "The third line trains the KMeans model on the data X.\n",
        "\n",
        "The fourth line uses the predict() method to predict the clusters for each data point in X. The predicted clusters are stored in a variable y_kmeans.\n",
        "\n",
        "The fifth line plots the data and clusters on a graph. Data points are colored according to their cluster. The point size is 50, and the color map is viridis.\n",
        "\n",
        "The sixth line plots the cluster centers on the graph using black circles with a size of 200 and transparency of 0.5.\n",
        "\n",
        "The seventh and eighth lines add labels for the X and Y axes, respectively.\n",
        "\n",
        "The ninth line displays the graph.\n",
        "\n",
        "\n",
        "\n",
        "\n"
      ],
      "metadata": {
        "id": "1YxvSlW0cXEK"
      }
    },
    {
      "cell_type": "code",
      "source": [],
      "metadata": {
        "id": "y7daJZCtc3EH"
      },
      "execution_count": null,
      "outputs": []
    }
  ]
}