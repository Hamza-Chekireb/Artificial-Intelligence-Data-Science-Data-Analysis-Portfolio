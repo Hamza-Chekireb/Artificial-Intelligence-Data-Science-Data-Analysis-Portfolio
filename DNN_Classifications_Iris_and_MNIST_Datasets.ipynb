{
  "cells": [
    {
      "cell_type": "markdown",
      "metadata": {
        "id": "view-in-github",
        "colab_type": "text"
      },
      "source": [
        "<a href=\"https://colab.research.google.com/github/Hamza-Chekireb/Artificial-Intelligence-Data-Science-Data-Analysis-Portfolio/blob/main/DNN_Classifications_Iris_and_MNIST_Datasets.ipynb\" target=\"_parent\"><img src=\"https://colab.research.google.com/assets/colab-badge.svg\" alt=\"Open In Colab\"/></a>"
      ]
    },
    {
      "cell_type": "markdown",
      "metadata": {
        "id": "951N-roasA_s"
      },
      "source": [
        "\n",
        "**Exerice 1 : Classification Iris**"
      ]
    },
    {
      "cell_type": "code",
      "execution_count": null,
      "metadata": {
        "id": "aygwRi-Ew2xJ"
      },
      "outputs": [],
      "source": [
        "# Importation des bibliothèques \n",
        "import pandas as pd\n",
        "import numpy as np\n",
        "\n",
        "# Un ensemble de base de données téléchargeable\n",
        "from sklearn import datasets \n",
        "# Fonctions pour le preprocessing \n",
        "from sklearn.preprocessing import LabelEncoder\n",
        "\n",
        "import tensorflow as tf\n",
        "from tensorflow.keras.utils import to_categorical\n",
        "\n",
        "\n",
        "from sklearn.model_selection import train_test_split \n",
        "\n"
      ]
    },
    {
      "cell_type": "code",
      "execution_count": null,
      "metadata": {
        "colab": {
          "base_uri": "https://localhost:8080/",
          "height": 35
        },
        "id": "pHZZHdwpsW6t",
        "outputId": "c321904a-e067-43af-e476-66681f4b50dd"
      },
      "outputs": [
        {
          "data": {
            "application/vnd.google.colaboratory.intrinsic+json": {
              "type": "string"
            },
            "text/plain": [
              "'# train_test_validation_split\\nX_model, X_valid, y_model, y_valid = train_test_split(X_train, y_train, test_size = 0.2)'"
            ]
          },
          "execution_count": 8,
          "metadata": {},
          "output_type": "execute_result"
        }
      ],
      "source": [
        "# 1. load dataset\n",
        "iris = datasets.load_iris()\n",
        "\n",
        "# 2. features_target_split\n",
        "# features\n",
        "X = iris.data[:, :]  \n",
        "# target\n",
        "y = iris.target\n",
        "\n",
        "'''# 3.# encode class values as integers\n",
        "encoder = LabelEncoder()\n",
        "encoder.fit(y)\n",
        "encoded_Y = encoder.transform(y)'''\n",
        "\n",
        "# Conversion en one hot encoded en utilisant tf.keras\n",
        "Y = tf.keras.utils.to_categorical(y)\n",
        "\n",
        "# 3. train_test_split classic \n",
        "X_train, X_test, y_train,y_test = train_test_split(X, Y, test_size = 0.1)\n",
        "\n",
        "'''# train_test_validation_split\n",
        "X_model, X_valid, y_model, y_valid = train_test_split(X_train, y_train, test_size = 0.2)'''"
      ]
    },
    {
      "cell_type": "code",
      "execution_count": null,
      "metadata": {
        "id": "byxwgbY6uXHU"
      },
      "outputs": [],
      "source": [
        "# 4. Construction du modèle \n",
        "\n",
        "# Artificial neural network\n",
        "\n",
        "# Les fonctions d'initiation(Construction) du modèle \n",
        "\n",
        "from tensorflow.keras.models import Sequential\n",
        "from tensorflow.keras.layers import Dense\n",
        "import matplotlib.pyplot as plt\n",
        "\n",
        "model= Sequential([\n",
        "   Dense(16, input_dim = 4, activation='relu'),    \n",
        "   Dense(3, activation='softmax') ])\n",
        "\n",
        "# 5. Entraînement  \n",
        "# Configuration du modèle(Back propagation configuration)\n",
        "model.compile(loss='categorical_crossentropy', optimizer='adam', metrics=[\"accuracy\"]) \n",
        "\n",
        "\n"
      ]
    },
    {
      "cell_type": "code",
      "execution_count": null,
      "metadata": {
        "id": "BtUFmCBA3DPY"
      },
      "outputs": [],
      "source": [
        "import time\n",
        "\n",
        "start = time.time()\n",
        "\n",
        "# 6. Ajustement du modèle\n",
        "history = model.fit( X_train, y_train, validation_split = 0.2,  epochs= 300) \n",
        "\n",
        "print(\"The time used to execute this is given below\")\n",
        "\n",
        "end = time.time()\n",
        "\n",
        "print(end - start)\n",
        "\n"
      ]
    },
    {
      "cell_type": "code",
      "execution_count": null,
      "metadata": {
        "colab": {
          "base_uri": "https://localhost:8080/"
        },
        "id": "SokXYwUa0HF5",
        "outputId": "d5a2a518-0475-46c1-a9fa-a4eadd75a7a6"
      },
      "outputs": [
        {
          "name": "stdout",
          "output_type": "stream",
          "text": [
            "Model: \"sequential_1\"\n",
            "_________________________________________________________________\n",
            " Layer (type)                Output Shape              Param #   \n",
            "=================================================================\n",
            " dense_2 (Dense)             (None, 16)                80        \n",
            "                                                                 \n",
            " dense_3 (Dense)             (None, 3)                 51        \n",
            "                                                                 \n",
            "=================================================================\n",
            "Total params: 131\n",
            "Trainable params: 131\n",
            "Non-trainable params: 0\n",
            "_________________________________________________________________\n"
          ]
        }
      ],
      "source": [
        "# Le sommaire\n",
        "\n",
        "model.summary()"
      ]
    },
    {
      "cell_type": "code",
      "execution_count": null,
      "metadata": {
        "colab": {
          "base_uri": "https://localhost:8080/",
          "height": 295
        },
        "id": "rJN8s2fe1Mde",
        "outputId": "25f022f0-4f52-473d-e805-62ec00ff992d"
      },
      "outputs": [
        {
          "data": {
            "image/png": "[encoded data removed]",
            "text/plain": [
              "<Figure size 432x288 with 1 Axes>"
            ]
          },
          "metadata": {},
          "output_type": "display_data"
        }
      ],
      "source": [
        "# l'historique de l'Accuracy\n",
        "plt.plot(history.history['accuracy'])\n",
        "plt.plot(history.history['val_accuracy'])\n",
        "plt.title('model accuracy')\n",
        "plt.ylabel('accuracy')\n",
        "plt.xlabel('epoch')\n",
        "plt.legend(['train', 'val'], loc='lower right')\n",
        "plt.show()"
      ]
    },
    {
      "cell_type": "code",
      "execution_count": null,
      "metadata": {
        "colab": {
          "base_uri": "https://localhost:8080/",
          "height": 295
        },
        "id": "gfmM2kzL3iS_",
        "outputId": "0dc15ce8-574a-4a60-e291-503c767d998e"
      },
      "outputs": [
        {
          "data": {
            "image/png": "[encoded data removed]",
            "text/plain": [
              "<Figure size 432x288 with 1 Axes>"
            ]
          },
          "metadata": {},
          "output_type": "display_data"
        }
      ],
      "source": [
        "# l'historique du coût 'loss'\n",
        "plt.plot(history.history['loss'])\n",
        "plt.plot(history.history['val_loss'])\n",
        "plt.title('model loss')\n",
        "plt.ylabel('loss')\n",
        "plt.xlabel('epoch')\n",
        "plt.legend(['train', 'val'], loc='upper left')\n",
        "plt.show()\n"
      ]
    },
    {
      "cell_type": "markdown",
      "metadata": {
        "id": "B3LcXqZY8eLS"
      },
      "source": [
        "**Exercice 2 : Classification des chiffres(MNIST)**"
      ]
    },
    {
      "cell_type": "code",
      "execution_count": null,
      "metadata": {
        "colab": {
          "base_uri": "https://localhost:8080/"
        },
        "id": "9k6wU2QJ6Crd",
        "outputId": "d554e18e-2bfd-4138-eb32-ce9290ef828f"
      },
      "outputs": [
        {
          "name": "stdout",
          "output_type": "stream",
          "text": [
            "Looking in indexes: https://pypi.org/simple, https://us-python.pkg.dev/colab-wheels/public/simple/\n",
            "Collecting mnist\n",
            "  Downloading mnist-0.2.2-py2.py3-none-any.whl (3.5 kB)\n",
            "Requirement already satisfied: numpy in /usr/local/lib/python3.7/dist-packages (from mnist) (1.21.6)\n",
            "Installing collected packages: mnist\n",
            "Successfully installed mnist-0.2.2\n"
          ]
        }
      ],
      "source": [
        "!pip install mnist \n",
        "import numpy as np\n",
        "import mnist\n",
        "from tensorflow.keras.models import Sequential\n",
        "from tensorflow.keras.layers import Dense\n",
        "from tensorflow.keras.layers import Dropout\n",
        "from tensorflow.keras.utils import to_categorical\n",
        "import mnist"
      ]
    },
    {
      "cell_type": "code",
      "execution_count": null,
      "metadata": {
        "id": "Ft9JQJeo92wt"
      },
      "outputs": [],
      "source": [
        "train_images = mnist.train_images()\n",
        "train_labels = mnist.train_labels()\n",
        "test_images = mnist.test_images()\n",
        "test_labels = mnist.test_labels()"
      ]
    },
    {
      "cell_type": "code",
      "execution_count": null,
      "metadata": {
        "colab": {
          "base_uri": "https://localhost:8080/"
        },
        "id": "vwSBla4f-EZH",
        "outputId": "5b7108c7-d3c5-416e-cd04-f581e4a6648d"
      },
      "outputs": [
        {
          "data": {
            "text/plain": [
              "array([5, 0, 4, ..., 5, 6, 8], dtype=uint8)"
            ]
          },
          "execution_count": 23,
          "metadata": {},
          "output_type": "execute_result"
        }
      ],
      "source": [
        "train_labels"
      ]
    },
    {
      "cell_type": "code",
      "execution_count": null,
      "metadata": {
        "id": "1sU0mTSV981N"
      },
      "outputs": [],
      "source": [
        "# Normalize the images. \n",
        "# The pixel value is a single number that represents the brightness of the pixel, typically zero is taken to be black, and 255 is taken to be #white. After normalization we will get values between 0 and 1\n",
        "train_images = (train_images / 255) \n",
        "test_images = (test_images / 255) \n",
        "\n",
        "# Flatten the images.\n",
        "train_images = train_images.reshape((-1, 784)) \n",
        "test_images = test_images.reshape((-1, 784))"
      ]
    },
    {
      "cell_type": "code",
      "execution_count": null,
      "metadata": {
        "id": "9wMiD71Q-UHn"
      },
      "outputs": [],
      "source": [
        "# Build the model.\n",
        "model = Sequential([\n",
        "  Dense(64, activation='relu', input_shape=(784,)),\n",
        "  Dense(64, activation='relu'),\n",
        "  Dense(10, activation='softmax')])"
      ]
    },
    {
      "cell_type": "code",
      "execution_count": null,
      "metadata": {
        "id": "vfblC1vs-frm"
      },
      "outputs": [],
      "source": [
        "# Compile K model.\n",
        "model.compile(\n",
        "  optimizer='adam',\n",
        "  loss='categorical_crossentropy',\n",
        "  metrics=['accuracy'])\n",
        "history = model.fit(\n",
        "  train_images,\n",
        "  to_categorical(train_labels),\n",
        "  epochs=5,\n",
        "  batch_size=32,\n",
        "  validation_data=(test_images, to_categorical(test_labels)))"
      ]
    },
    {
      "cell_type": "code",
      "execution_count": null,
      "metadata": {
        "colab": {
          "base_uri": "https://localhost:8080/"
        },
        "id": "H_Ev62Ka-ohs",
        "outputId": "abc4359f-efd1-40e9-a04b-cbcea66d4ed3"
      },
      "outputs": [
        {
          "name": "stdout",
          "output_type": "stream",
          "text": [
            "Epoch 1/5\n",
            "1875/1875 [==============================] - 6s 3ms/step - loss: 0.2834 - accuracy: 0.9174 - val_loss: 0.1503 - val_accuracy: 0.9541\n",
            "Epoch 2/5\n",
            "1875/1875 [==============================] - 5s 3ms/step - loss: 0.1283 - accuracy: 0.9611 - val_loss: 0.1093 - val_accuracy: 0.9661\n",
            "Epoch 3/5\n",
            "1875/1875 [==============================] - 5s 3ms/step - loss: 0.0922 - accuracy: 0.9717 - val_loss: 0.1067 - val_accuracy: 0.9680\n",
            "Epoch 4/5\n",
            "1875/1875 [==============================] - 5s 3ms/step - loss: 0.0733 - accuracy: 0.9771 - val_loss: 0.0976 - val_accuracy: 0.9689\n",
            "Epoch 5/5\n",
            "1875/1875 [==============================] - 5s 3ms/step - loss: 0.0614 - accuracy: 0.9805 - val_loss: 0.0988 - val_accuracy: 0.9701\n"
          ]
        }
      ],
      "source": [
        "history = model.fit(\n",
        "  train_images,\n",
        "  to_categorical(train_labels),\n",
        "  epochs=5,\n",
        "  batch_size=32,\n",
        "  validation_data=(test_images, to_categorical(test_labels)))"
      ]
    },
    {
      "cell_type": "code",
      "execution_count": null,
      "metadata": {
        "colab": {
          "base_uri": "https://localhost:8080/",
          "height": 295
        },
        "id": "KpEYMM2V-rms",
        "outputId": "9ce00f41-a92e-4171-be6b-b0926ab0e8f7"
      },
      "outputs": [
        {
          "data": {
            "image/png": "[encoded data removed]",
            "text/plain": [
              "<Figure size 432x288 with 1 Axes>"
            ]
          },
          "metadata": {},
          "output_type": "display_data"
        }
      ],
      "source": [
        "# summarize history for accuracy\n",
        "plt.plot(history.history['accuracy'])\n",
        "plt.plot(history.history['val_accuracy'])\n",
        "plt.title('model accuracy')\n",
        "plt.ylabel('accuracy')\n",
        "plt.xlabel('epoch')\n",
        "plt.legend(['train', 'test'], loc='upper left')\n",
        "plt.show()"
      ]
    },
    {
      "cell_type": "code",
      "execution_count": null,
      "metadata": {
        "colab": {
          "base_uri": "https://localhost:8080/"
        },
        "id": "dNsA2Ln7-3K6",
        "outputId": "c371685d-ca78-40b1-e60b-6bf902ab1694"
      },
      "outputs": [
        {
          "name": "stdout",
          "output_type": "stream",
          "text": [
            "313/313 [==============================] - 1s 4ms/step - loss: 0.0988 - accuracy: 0.9701\n"
          ]
        },
        {
          "data": {
            "text/plain": [
              "[0.09882228076457977, 0.9700999855995178]"
            ]
          },
          "execution_count": 29,
          "metadata": {},
          "output_type": "execute_result"
        }
      ],
      "source": [
        "# Evaluate the model.\n",
        "model.evaluate(\n",
        "  test_images,\n",
        "  to_categorical(test_labels))\n"
      ]
    },
    {
      "cell_type": "markdown",
      "metadata": {
        "id": "ZHV58oq4qqpb"
      },
      "source": [
        "**Atelier 09 Septembre 2022**\n",
        "\n",
        "**Les DNNs**\n"
      ]
    },
    {
      "cell_type": "markdown",
      "metadata": {
        "id": "KDv6tNlSq7JL"
      },
      "source": [
        "**1. Importation des bibliothèques**"
      ]
    },
    {
      "cell_type": "code",
      "execution_count": null,
      "metadata": {
        "colab": {
          "base_uri": "https://localhost:8080/"
        },
        "id": "h2fV8C9wqp8V",
        "outputId": "ab28b766-5482-4e67-f6b3-719765a451a2"
      },
      "outputs": [
        {
          "name": "stdout",
          "output_type": "stream",
          "text": [
            "Looking in indexes: https://pypi.org/simple, https://us-python.pkg.dev/colab-wheels/public/simple/\n",
            "Requirement already satisfied: mnist in /usr/local/lib/python3.7/dist-packages (0.2.2)\n",
            "Requirement already satisfied: numpy in /usr/local/lib/python3.7/dist-packages (from mnist) (1.21.6)\n"
          ]
        }
      ],
      "source": [
        "!pip install mnist\n",
        "import warnings\n",
        "warnings.filterwarnings(action='ignore')                  # Turn off the warnings."
      ]
    },
    {
      "cell_type": "code",
      "execution_count": null,
      "metadata": {
        "id": "0igeTh-p-9jY"
      },
      "outputs": [],
      "source": [
        "import numpy as np\n",
        "import mnist\n",
        "import tensorflow\n",
        "from tensorflow.keras.models import Sequential\n",
        "from tensorflow.keras.layers import Dense\n",
        "from tensorflow.keras.layers import Dropout\n",
        "from tensorflow.keras.utils import to_categorical\n"
      ]
    },
    {
      "cell_type": "markdown",
      "metadata": {
        "id": "SEG8-iJyrzdI"
      },
      "source": [
        "**2. Affectation et visualisation des données**"
      ]
    },
    {
      "cell_type": "code",
      "execution_count": null,
      "metadata": {
        "id": "59qiBzJDr3hy"
      },
      "outputs": [],
      "source": [
        "train_images = mnist.train_images()\n",
        "train_labels = mnist.train_labels()\n",
        "test_images = mnist.test_images()\n",
        "test_labels = mnist.test_labels()\n"
      ]
    },
    {
      "cell_type": "code",
      "execution_count": null,
      "metadata": {
        "colab": {
          "base_uri": "https://localhost:8080/"
        },
        "id": "NICBpXHWr4ej",
        "outputId": "fc5b088a-73a1-43ad-e15d-6bc8cc67b6f1"
      },
      "outputs": [
        {
          "name": "stdout",
          "output_type": "stream",
          "text": [
            "(60000, 28, 28)\n"
          ]
        },
        {
          "data": {
            "text/plain": [
              "numpy.ndarray"
            ]
          },
          "execution_count": 63,
          "metadata": {},
          "output_type": "execute_result"
        }
      ],
      "source": [
        "type(train_images)\n",
        "print(train_images.shape)\n",
        "type(train_images)\n"
      ]
    },
    {
      "cell_type": "code",
      "execution_count": null,
      "metadata": {
        "colab": {
          "base_uri": "https://localhost:8080/"
        },
        "id": "wVET1x0XsLF5",
        "outputId": "904d6d8b-5bfc-4161-b951-d0ba12190a91"
      },
      "outputs": [
        {
          "name": "stdout",
          "output_type": "stream",
          "text": [
            "(60000,)\n"
          ]
        }
      ],
      "source": [
        "train_labels\n",
        "print(train_labels.shape)"
      ]
    },
    {
      "cell_type": "markdown",
      "metadata": {
        "id": "HFnujr-Jsgb4"
      },
      "source": [
        "**3. Preprocessing**"
      ]
    },
    {
      "cell_type": "code",
      "execution_count": null,
      "metadata": {
        "colab": {
          "base_uri": "https://localhost:8080/"
        },
        "id": "i0luUFsEsfnT",
        "outputId": "6935fa8d-a40d-4aff-8ac5-dd8517549395"
      },
      "outputs": [
        {
          "name": "stdout",
          "output_type": "stream",
          "text": [
            "0\n",
            "255\n"
          ]
        }
      ],
      "source": [
        "print(train_images.min())\n",
        "print(train_images.max())\n"
      ]
    },
    {
      "cell_type": "markdown",
      "metadata": {
        "id": "uzDE4jgItUom"
      },
      "source": [
        "**3.1. Min Max scaler ou appelée normalisation**"
      ]
    },
    {
      "cell_type": "code",
      "execution_count": null,
      "metadata": {
        "id": "9uysrTR3sVw2"
      },
      "outputs": [],
      "source": [
        "# Normalize the images. \n",
        "# Les pixel varie entre [0,1] à la place de [0,255]\n",
        "\n",
        "train_images = (train_images / 255) \n",
        "test_images = (test_images / 255) \n"
      ]
    },
    {
      "cell_type": "markdown",
      "metadata": {
        "id": "A84PUXB6uH8Y"
      },
      "source": [
        "**3.2. Aplatire les images**"
      ]
    },
    {
      "cell_type": "code",
      "execution_count": null,
      "metadata": {
        "id": "sFqZYxPmuOTO"
      },
      "outputs": [],
      "source": [
        "\n",
        "# Aplatir les images(Flatten).\n",
        "train_images = train_images.reshape((-1, 784)) \n",
        "test_images = test_images.reshape((-1, 784))"
      ]
    },
    {
      "cell_type": "markdown",
      "metadata": {
        "id": "LXdHnaLRuklw"
      },
      "source": [
        "**4. Construction du modèle**\n"
      ]
    },
    {
      "cell_type": "code",
      "execution_count": null,
      "metadata": {
        "id": "DqGqXughuQsC"
      },
      "outputs": [],
      "source": [
        "model = Sequential([\n",
        "  Dense(64, activation='relu', input_shape=(784,)),\n",
        "  Dense(64, activation='relu'),\n",
        "  Dense(10, activation='softmax')])"
      ]
    },
    {
      "cell_type": "markdown",
      "metadata": {
        "id": "u5PgV_J-xebq"
      },
      "source": [
        "**5. La compilation**\n",
        "\n",
        "La compilation est à peu près la configuration de la backpropagation "
      ]
    },
    {
      "cell_type": "code",
      "execution_count": null,
      "metadata": {
        "id": "kzMe5QuTxd36"
      },
      "outputs": [],
      "source": [
        "model.compile(\n",
        "  optimizer='adam',\n",
        "  loss='categorical_crossentropy',\n",
        "  metrics=['accuracy'])"
      ]
    },
    {
      "cell_type": "markdown",
      "metadata": {
        "id": "dNsXapZrymT_"
      },
      "source": [
        "**6. Ajuster le modèle(Entraînement)**"
      ]
    },
    {
      "cell_type": "code",
      "execution_count": null,
      "metadata": {
        "colab": {
          "base_uri": "https://localhost:8080/"
        },
        "id": "ugRyguJKu9ZG",
        "outputId": "bdd5d1b8-8cba-4030-b24c-7c6dde14f059"
      },
      "outputs": [
        {
          "name": "stdout",
          "output_type": "stream",
          "text": [
            "Epoch 1/10\n",
            "1875/1875 [==============================] - 6s 3ms/step - loss: 0.2784 - accuracy: 0.9202 - val_loss: 0.1491 - val_accuracy: 0.9564\n",
            "Epoch 2/10\n",
            "1875/1875 [==============================] - 6s 3ms/step - loss: 0.1264 - accuracy: 0.9622 - val_loss: 0.1125 - val_accuracy: 0.9650\n",
            "Epoch 3/10\n",
            "1875/1875 [==============================] - 8s 5ms/step - loss: 0.0957 - accuracy: 0.9711 - val_loss: 0.1061 - val_accuracy: 0.9681\n",
            "Epoch 4/10\n",
            "1875/1875 [==============================] - 9s 5ms/step - loss: 0.0767 - accuracy: 0.9761 - val_loss: 0.0962 - val_accuracy: 0.9712\n",
            "Epoch 5/10\n",
            "1875/1875 [==============================] - 7s 4ms/step - loss: 0.0609 - accuracy: 0.9812 - val_loss: 0.0818 - val_accuracy: 0.9753\n",
            "Epoch 6/10\n",
            "1875/1875 [==============================] - 5s 3ms/step - loss: 0.0531 - accuracy: 0.9831 - val_loss: 0.0923 - val_accuracy: 0.9721\n",
            "Epoch 7/10\n",
            "1875/1875 [==============================] - 5s 3ms/step - loss: 0.0448 - accuracy: 0.9855 - val_loss: 0.0925 - val_accuracy: 0.9746\n",
            "Epoch 8/10\n",
            "1875/1875 [==============================] - 5s 3ms/step - loss: 0.0365 - accuracy: 0.9884 - val_loss: 0.0964 - val_accuracy: 0.9729\n",
            "Epoch 9/10\n",
            "1875/1875 [==============================] - 5s 3ms/step - loss: 0.0334 - accuracy: 0.9891 - val_loss: 0.0939 - val_accuracy: 0.9749\n",
            "Epoch 10/10\n",
            "1875/1875 [==============================] - 5s 3ms/step - loss: 0.0294 - accuracy: 0.9902 - val_loss: 0.1021 - val_accuracy: 0.9727\n",
            "le temps d'exécution est égale à  82.56814527511597\n"
          ]
        }
      ],
      "source": [
        "import time\n",
        "be = time.time()\n",
        "history = model.fit(train_images,\n",
        "                    to_categorical(train_labels),#Utiliser to_categorical pour adapter les outputs à la sortie du modèle\n",
        "                    epochs=10,\n",
        "                    batch_size=32,\n",
        "                    validation_data=(test_images, to_categorical(test_labels)))\n",
        "end = time.time()\n",
        "\n",
        "print(\"le temps d'exécution est égale à  \" +str(end-be))"
      ]
    },
    {
      "cell_type": "markdown",
      "metadata": {
        "id": "5S2M-4-Q06eX"
      },
      "source": [
        "**7. Voir l’historique de l’entraînement**"
      ]
    },
    {
      "cell_type": "code",
      "execution_count": null,
      "metadata": {
        "colab": {
          "base_uri": "https://localhost:8080/",
          "height": 295
        },
        "id": "zoSgD0TczHY2",
        "outputId": "e2f2693e-8ac5-4fa4-aa22-8592bddd64ec"
      },
      "outputs": [
        {
          "data": {
            "image/png": "[encoded data removed]",
            "text/plain": [
              "<Figure size 432x288 with 1 Axes>"
            ]
          },
          "metadata": {},
          "output_type": "display_data"
        }
      ],
      "source": [
        "# summarize history for accuracy\n",
        "import matplotlib.pyplot as plt\n",
        "plt.plot(history.history['accuracy'])\n",
        "plt.plot(history.history['val_accuracy'])\n",
        "plt.title('model accuracy')\n",
        "plt.ylabel('accuracy')\n",
        "plt.xlabel('epoch')\n",
        "plt.legend(['train', 'test'], loc='upper left')\n",
        "plt.show()"
      ]
    },
    {
      "cell_type": "markdown",
      "metadata": {
        "id": "RklS9UZ_2mk7"
      },
      "source": [
        "**8. Faire face au sur-entraînement(Overfiting)**\n",
        "\n",
        "**8.1. Early Stopping**"
      ]
    },
    {
      "cell_type": "code",
      "execution_count": null,
      "metadata": {
        "colab": {
          "base_uri": "https://localhost:8080/",
          "height": 545
        },
        "id": "w00t75Tu1FQ6",
        "outputId": "e43da746-f6d7-4e79-f191-6f21e6231550"
      },
      "outputs": [
        {
          "name": "stdout",
          "output_type": "stream",
          "text": [
            "Epoch 1/20\n",
            "1875/1875 [==============================] - 5s 3ms/step - loss: 0.2821 - accuracy: 0.9173 - val_loss: 0.1701 - val_accuracy: 0.9477\n",
            "Epoch 2/20\n",
            "1875/1875 [==============================] - 5s 3ms/step - loss: 0.1283 - accuracy: 0.9616 - val_loss: 0.1098 - val_accuracy: 0.9671\n",
            "Epoch 3/20\n",
            "1875/1875 [==============================] - 5s 3ms/step - loss: 0.0923 - accuracy: 0.9719 - val_loss: 0.1025 - val_accuracy: 0.9680\n",
            "Epoch 4/20\n",
            "1875/1875 [==============================] - 5s 3ms/step - loss: 0.0727 - accuracy: 0.9776 - val_loss: 0.1002 - val_accuracy: 0.9674\n",
            "Epoch 5/20\n",
            "1875/1875 [==============================] - 5s 3ms/step - loss: 0.0595 - accuracy: 0.9818 - val_loss: 0.0889 - val_accuracy: 0.9731\n",
            "Epoch 6/20\n",
            "1875/1875 [==============================] - 5s 3ms/step - loss: 0.0496 - accuracy: 0.9845 - val_loss: 0.0900 - val_accuracy: 0.9723\n",
            "Epoch 7/20\n",
            "1875/1875 [==============================] - 5s 3ms/step - loss: 0.0407 - accuracy: 0.9869 - val_loss: 0.1046 - val_accuracy: 0.9710\n"
          ]
        },
        {
          "data": {
            "image/png": "[encoded data removed]",
            "text/plain": [
              "<Figure size 432x288 with 1 Axes>"
            ]
          },
          "metadata": {},
          "output_type": "display_data"
        }
      ],
      "source": [
        "# Importer une fonction pour arrêter le modèle avant l'overfiting\n",
        "\n",
        "from tensorflow.keras.callbacks import EarlyStopping\n",
        "\n",
        "mycallbacks = [EarlyStopping(monitor='val_loss', patience=2)]\n",
        "\n",
        "history = model.fit(\n",
        "  train_images, #inputs\n",
        "  to_categorical(train_labels), #target vector\n",
        "  epochs=20, # number of epochs\n",
        "  batch_size=32,\n",
        "  callbacks = mycallbacks, # early stopping\n",
        "  validation_data=(test_images, to_categorical(test_labels)))\n",
        "\n",
        "# summarize history for accuracy\n",
        "import matplotlib.pyplot as plt\n",
        "plt.plot(history.history['accuracy'])\n",
        "plt.plot(history.history['val_accuracy'])\n",
        "plt.title('model accuracy')\n",
        "plt.ylabel('accuracy')\n",
        "plt.xlabel('epoch')\n",
        "plt.legend(['train', 'test'], loc='upper left')\n",
        "plt.show()"
      ]
    },
    {
      "cell_type": "markdown",
      "metadata": {
        "id": "VjgG8IY65cX6"
      },
      "source": [
        "**8.2. Dropout**"
      ]
    },
    {
      "cell_type": "code",
      "execution_count": null,
      "metadata": {
        "colab": {
          "base_uri": "https://localhost:8080/",
          "height": 759
        },
        "id": "sw2BuCRg3jjZ",
        "outputId": "57b5a1c3-80ef-4c22-e2b8-5015524337cc"
      },
      "outputs": [
        {
          "name": "stdout",
          "output_type": "stream",
          "text": [
            "Epoch 1/20\n",
            "1875/1875 [==============================] - 6s 3ms/step - loss: 0.7077 - accuracy: 0.7779 - val_loss: 0.2621 - val_accuracy: 0.9228\n",
            "Epoch 2/20\n",
            "1875/1875 [==============================] - 5s 3ms/step - loss: 0.4349 - accuracy: 0.8754 - val_loss: 0.1983 - val_accuracy: 0.9406\n",
            "Epoch 3/20\n",
            "1875/1875 [==============================] - 5s 3ms/step - loss: 0.3766 - accuracy: 0.8916 - val_loss: 0.1735 - val_accuracy: 0.9485\n",
            "Epoch 4/20\n",
            "1875/1875 [==============================] - 5s 3ms/step - loss: 0.3476 - accuracy: 0.9007 - val_loss: 0.1675 - val_accuracy: 0.9494\n",
            "Epoch 5/20\n",
            "1875/1875 [==============================] - 5s 3ms/step - loss: 0.3261 - accuracy: 0.9073 - val_loss: 0.1598 - val_accuracy: 0.9536\n",
            "Epoch 6/20\n",
            "1875/1875 [==============================] - 5s 3ms/step - loss: 0.3110 - accuracy: 0.9114 - val_loss: 0.1499 - val_accuracy: 0.9555\n",
            "Epoch 7/20\n",
            "1875/1875 [==============================] - 5s 3ms/step - loss: 0.3045 - accuracy: 0.9137 - val_loss: 0.1531 - val_accuracy: 0.9553\n",
            "Epoch 8/20\n",
            "1875/1875 [==============================] - 5s 3ms/step - loss: 0.2921 - accuracy: 0.9153 - val_loss: 0.1471 - val_accuracy: 0.9583\n",
            "Epoch 9/20\n",
            "1875/1875 [==============================] - 5s 3ms/step - loss: 0.2851 - accuracy: 0.9196 - val_loss: 0.1401 - val_accuracy: 0.9604\n",
            "Epoch 10/20\n",
            "1875/1875 [==============================] - 5s 3ms/step - loss: 0.2767 - accuracy: 0.9199 - val_loss: 0.1356 - val_accuracy: 0.9610\n",
            "Epoch 11/20\n",
            "1875/1875 [==============================] - 5s 3ms/step - loss: 0.2789 - accuracy: 0.9191 - val_loss: 0.1424 - val_accuracy: 0.9593\n",
            "Epoch 12/20\n",
            "1875/1875 [==============================] - 5s 3ms/step - loss: 0.2693 - accuracy: 0.9231 - val_loss: 0.1404 - val_accuracy: 0.9602\n",
            "Epoch 13/20\n",
            "1875/1875 [==============================] - 5s 3ms/step - loss: 0.2648 - accuracy: 0.9238 - val_loss: 0.1380 - val_accuracy: 0.9611\n"
          ]
        },
        {
          "data": {
            "image/png": "[encoded data removed]",
            "text/plain": [
              "<Figure size 432x288 with 1 Axes>"
            ]
          },
          "metadata": {},
          "output_type": "display_data"
        }
      ],
      "source": [
        "# Construction d'un modèle \n",
        "model = Sequential([\n",
        "  Dense(64, activation='relu', input_shape=(784,)),\n",
        "  Dropout(0.5),\n",
        "  Dense(64, activation='relu'),\n",
        "  Dropout(0.5),\n",
        "  Dense(10, activation='softmax')])\n",
        "\n",
        "# Compiler le modèle\n",
        "model.compile(\n",
        "  optimizer='adam',\n",
        "  loss='categorical_crossentropy',\n",
        "  metrics=['accuracy'])\n",
        "# Importer une fonction pour arrêter le modèle avant l'overfiting\n",
        "\n",
        "# Paramétrer la fonction d'EarlyStopping\n",
        "mycallbacks = [EarlyStopping(monitor='val_loss', patience=3)]\n",
        "\n",
        "# Entrainement\n",
        "history = model.fit(\n",
        "  train_images, #inputs\n",
        "  to_categorical(train_labels), #target vector\n",
        "  epochs=20, # number of epochs\n",
        "  batch_size=32,\n",
        "  callbacks = mycallbacks, # early stopping\n",
        "  validation_data=(test_images, to_categorical(test_labels)))\n",
        "\n",
        "# summarize history for accuracy\n",
        "import matplotlib.pyplot as plt\n",
        "plt.plot(history.history['accuracy'])\n",
        "plt.plot(history.history['val_accuracy'])\n",
        "plt.title('model accuracy')\n",
        "plt.ylabel('accuracy')\n",
        "plt.xlabel('epoch')\n",
        "plt.legend(['train', 'test'], loc='upper left')\n",
        "plt.show()"
      ]
    }
  ],
  "metadata": {
    "colab": {
      "provenance": [],
      "mount_file_id": "1SuW2bcR9PFBiFg6c3RzPZ0DWquMdp-nj",
      "authorship_tag": "ABX9TyOtvBrCFsKWYKbB/f1E+Rtn",
      "include_colab_link": true
    },
    "gpuClass": "standard",
    "kernelspec": {
      "display_name": "Python 3",
      "name": "python3"
    },
    "language_info": {
      "name": "python"
    }
  },
  "nbformat": 4,
  "nbformat_minor": 0
}