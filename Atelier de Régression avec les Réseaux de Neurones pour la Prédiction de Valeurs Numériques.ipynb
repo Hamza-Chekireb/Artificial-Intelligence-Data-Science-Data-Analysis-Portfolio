{
  "nbformat": 4,
  "nbformat_minor": 0,
  "metadata": {
    "colab": {
      "provenance": [],
      "authorship_tag": "ABX9TyOWggT5fUmBEcb1ZcIBClYP",
      "include_colab_link": true
    },
    "kernelspec": {
      "name": "python3",
      "display_name": "Python 3"
    },
    "language_info": {
      "name": "python"
    }
  },
  "cells": [
    {
      "cell_type": "markdown",
      "metadata": {
        "id": "view-in-github",
        "colab_type": "text"
      },
      "source": [
        "<a href=\"https://colab.research.google.com/github/Hamza-Chekireb/Artificial-Intelligence-Data-Science-Data-Analysis-Portfolio/blob/main/Atelier%20de%20R%C3%A9gression%20avec%20les%20R%C3%A9seaux%20de%20Neurones%20pour%20la%20Pr%C3%A9diction%20de%20Valeurs%20Num%C3%A9riques.ipynb\" target=\"_parent\"><img src=\"https://colab.research.google.com/assets/colab-badge.svg\" alt=\"Open In Colab\"/></a>"
      ]
    },
    {
      "cell_type": "code",
      "execution_count": null,
      "metadata": {
        "id": "W2ZLox2us-oM"
      },
      "outputs": [],
      "source": [
        "from sklearn.datasets import make_regression\n",
        "from sklearn.model_selection import train_test_split\n",
        "from sklearn.preprocessing import StandardScaler\n",
        "from tensorflow.keras.models import Sequential\n",
        "from tensorflow.keras.layers import Dense\n",
        "\n",
        "# Générer les données de régression\n",
        "X, y = make_regression(n_samples=1000, n_features=10, noise=0.1, random_state=42)\n",
        "\n",
        "# Diviser les données en ensembles d'entraînement et de test\n",
        "X_train, X_test, y_train, y_test = train_test_split(X, y, test_size=0.2, random_state=42)\n",
        "\n",
        "# Normaliser les données\n",
        "scaler = StandardScaler()\n",
        "X_train = scaler.fit_transform(X_train)\n",
        "X_test = scaler.transform(X_test)\n",
        "\n",
        "# Créer le modèle DNN\n",
        "model = Sequential()\n",
        "model.add(Dense(16, input_shape=(10,), activation='relu'))\n",
        "model.add(Dense(1))\n",
        "\n",
        "# Compiler le modèle\n",
        "model.compile(loss='mean_squared_error', optimizer='adam')\n",
        "\n",
        "# Entraîner le modèle\n",
        "model.fit(X_train, y_train, epochs=10, batch_size=32, verbose=1)\n",
        "\n",
        "# Évaluer le modèle sur l'ensemble de test\n",
        "loss = model.evaluate(X_test, y_test)\n",
        "print('Test Loss:', loss)\n"
      ]
    }
  ]
}