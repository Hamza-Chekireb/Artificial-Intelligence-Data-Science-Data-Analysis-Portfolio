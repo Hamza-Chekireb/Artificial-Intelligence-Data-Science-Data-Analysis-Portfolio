{
  "cells": [
    {
      "cell_type": "markdown",
      "metadata": {
        "id": "view-in-github",
        "colab_type": "text"
      },
      "source": [
        "<a href=\"https://colab.research.google.com/github/Hamza-Chekireb/Artificial-Intelligence-Data-Science-Data-Analysis-Portfolio/blob/main/Classification_MNIST_With_CNN.ipynb\" target=\"_parent\"><img src=\"https://colab.research.google.com/assets/colab-badge.svg\" alt=\"Open In Colab\"/></a>"
      ]
    },
    {
      "cell_type": "markdown",
      "metadata": {
        "id": "uCj1eGC-zmr9"
      },
      "source": [
        "**--Les CNNs**"
      ]
    },
    {
      "cell_type": "code",
      "execution_count": null,
      "metadata": {
        "id": "McFfyozr6q7m"
      },
      "outputs": [],
      "source": [
        "# Importation des donnés \n",
        "\n",
        "from keras.datasets.mnist import load_data\n",
        "import numpy as np\n",
        "from sklearn.model_selection import train_test_split\n",
        "from tensorflow.keras.utils import to_categorical"
      ]
    },
    {
      "cell_type": "code",
      "execution_count": null,
      "metadata": {
        "colab": {
          "base_uri": "https://localhost:8080/"
        },
        "id": "Bzm_PNBY0AIG",
        "outputId": "006b9a43-498d-4aa3-ba5c-2e51872b6f0b"
      },
      "outputs": [
        {
          "name": "stdout",
          "output_type": "stream",
          "text": [
            "Downloading data from https://storage.googleapis.com/tensorflow/tf-keras-datasets/mnist.npz\n",
            "11493376/11490434 [==============================] - 0s 0us/step\n",
            "11501568/11490434 [==============================] - 0s 0us/step\n"
          ]
        }
      ],
      "source": [
        "# Retourne des tuples de données sous forme de (images, labels)\n",
        "# le premier tuple est pour les données d’entraînement et le deuxième est pour les données de test\n",
        "(train_digits, train_labels), (test_digits, test_labels) = load_data()\n"
      ]
    },
    {
      "cell_type": "code",
      "execution_count": null,
      "metadata": {
        "colab": {
          "base_uri": "https://localhost:8080/"
        },
        "id": "LZw1IEYT0RWz",
        "outputId": "a18bf220-792a-46f9-bdf2-10187fc1d113"
      },
      "outputs": [
        {
          "data": {
            "text/plain": [
              "(60000, 28, 28)"
            ]
          },
          "execution_count": 3,
          "metadata": {},
          "output_type": "execute_result"
        }
      ],
      "source": [
        "train_digits.shape"
      ]
    },
    {
      "cell_type": "markdown",
      "metadata": {
        "id": "fEAltyu_2R0T"
      },
      "source": [
        "**2. Preprocessing**"
      ]
    },
    {
      "cell_type": "markdown",
      "metadata": {
        "id": "8kLJU39M1PE9"
      },
      "source": [
        "On a 60000 milles images de dimension 28*28"
      ]
    },
    {
      "cell_type": "code",
      "execution_count": null,
      "metadata": {
        "id": "mitw1b_-0TP1"
      },
      "outputs": [],
      "source": [
        "# Redimensionement des images\n",
        "image_height = train_digits.shape[1]  \n",
        "image_width = train_digits.shape[2]\n",
        "num_channels = 1  # Une image niveau de gris\n",
        "train_data = np.reshape(train_digits, (train_digits.shape[0], image_height, image_width, num_channels))\n",
        "test_data = np.reshape(test_digits, (test_digits.shape[0],image_height, image_width, num_channels))\n"
      ]
    },
    {
      "cell_type": "code",
      "execution_count": null,
      "metadata": {
        "colab": {
          "base_uri": "https://localhost:8080/"
        },
        "id": "PXDWhrLm1zr7",
        "outputId": "557275bc-ff1e-4f7c-d9bc-d17d06490336"
      },
      "outputs": [
        {
          "data": {
            "text/plain": [
              "(60000, 28, 28, 1)"
            ]
          },
          "execution_count": 5,
          "metadata": {},
          "output_type": "execute_result"
        }
      ],
      "source": [
        "train_data.shape"
      ]
    },
    {
      "cell_type": "code",
      "execution_count": null,
      "metadata": {
        "id": "9Fr9s2DN10Me"
      },
      "outputs": [],
      "source": [
        "# Normalisation de la taille des images [0,1]\n",
        "train_data = train_data.astype('float32') / 255.\n",
        "test_data = test_data.astype('float32') / 255."
      ]
    },
    {
      "cell_type": "code",
      "execution_count": null,
      "metadata": {
        "id": "cftsyAFy2-2N"
      },
      "outputs": [],
      "source": [
        "# Transformation des dimensions des labels\n",
        "num_classes = 10\n",
        "train_labels_cat = to_categorical(train_labels,num_classes)\n",
        "test_labels_cat = to_categorical(test_labels,num_classes)"
      ]
    },
    {
      "cell_type": "code",
      "execution_count": null,
      "metadata": {
        "colab": {
          "base_uri": "https://localhost:8080/"
        },
        "id": "hVkoRRw13YDw",
        "outputId": "1e027469-6456-49a4-ad6c-51d88c32dc75"
      },
      "outputs": [
        {
          "data": {
            "text/plain": [
              "(60000, 10)"
            ]
          },
          "execution_count": 8,
          "metadata": {},
          "output_type": "execute_result"
        }
      ],
      "source": [
        "train_labels_cat.shape"
      ]
    },
    {
      "cell_type": "markdown",
      "metadata": {
        "id": "XSlmH1mY6wtf"
      },
      "source": [
        "**3. Construction du modèle**"
      ]
    },
    {
      "cell_type": "code",
      "execution_count": null,
      "metadata": {
        "id": "LrIj6j883Z3V"
      },
      "outputs": [],
      "source": [
        "from tensorflow.keras.models import Sequential\n",
        "from tensorflow.keras.layers import Conv2D, MaxPooling2D, Flatten, Dense, Dropout\n",
        "\n",
        "def build_model():\n",
        "    model = Sequential()\n",
        "    # Les couches conventionnelles\n",
        "    model.add(Conv2D(filters=32, kernel_size=(3,3), activation='relu', padding='same',strides=1,\n",
        "                     input_shape=(image_height, image_width, num_channels)))\n",
        "    model.add(MaxPooling2D(pool_size=(2,2)))\n",
        "\n",
        "    model.add(Conv2D(filters=64, kernel_size=(3,3), activation='relu', padding='same'))\n",
        "    model.add(MaxPooling2D(pool_size=(2,2)))\n",
        "\n",
        "    model.add(Conv2D(filters=64, kernel_size=(3,3), activation='relu', padding='same'))\n",
        "    model.add(MaxPooling2D(pool_size=(2,2)))   \n",
        "\n",
        "    model.add(Flatten())\n",
        "    # Densely connected layers\n",
        "    model.add(Dense(128, activation='relu'))\n",
        "    # output layer\n",
        "    model.add(Dense(num_classes, activation='softmax'))\n",
        "    # compile with adam optimizer & categorical_crossentropy loss function\n",
        "    model.compile(optimizer='adam', loss='categorical_crossentropy', metrics=['accuracy'])\n",
        "    return model\n",
        "\n",
        "model = build_model()\n"
      ]
    },
    {
      "cell_type": "code",
      "execution_count": null,
      "metadata": {
        "colab": {
          "base_uri": "https://localhost:8080/"
        },
        "id": "lirBFhTz4aLH",
        "outputId": "3bc292f3-fc7c-41d7-bb56-b683f16043fc"
      },
      "outputs": [
        {
          "name": "stdout",
          "output_type": "stream",
          "text": [
            "Epoch 1/15\n",
            "750/750 [==============================] - 15s 5ms/step - loss: 0.1931 - accuracy: 0.9386 - val_loss: 0.0700 - val_accuracy: 0.9788\n",
            "Epoch 2/15\n",
            "750/750 [==============================] - 3s 4ms/step - loss: 0.0551 - accuracy: 0.9829 - val_loss: 0.0473 - val_accuracy: 0.9849\n",
            "Epoch 3/15\n",
            "750/750 [==============================] - 3s 4ms/step - loss: 0.0390 - accuracy: 0.9879 - val_loss: 0.0509 - val_accuracy: 0.9858\n",
            "Epoch 4/15\n",
            "750/750 [==============================] - 3s 4ms/step - loss: 0.0294 - accuracy: 0.9906 - val_loss: 0.0365 - val_accuracy: 0.9893\n",
            "Epoch 5/15\n",
            "750/750 [==============================] - 3s 4ms/step - loss: 0.0244 - accuracy: 0.9924 - val_loss: 0.0352 - val_accuracy: 0.9896\n",
            "Epoch 6/15\n",
            "750/750 [==============================] - 3s 4ms/step - loss: 0.0197 - accuracy: 0.9934 - val_loss: 0.0429 - val_accuracy: 0.9868\n",
            "Epoch 7/15\n",
            "750/750 [==============================] - 3s 5ms/step - loss: 0.0162 - accuracy: 0.9945 - val_loss: 0.0417 - val_accuracy: 0.9886\n",
            "Epoch 8/15\n",
            "750/750 [==============================] - 3s 5ms/step - loss: 0.0136 - accuracy: 0.9956 - val_loss: 0.0477 - val_accuracy: 0.9862\n",
            "Epoch 9/15\n",
            "750/750 [==============================] - 4s 5ms/step - loss: 0.0118 - accuracy: 0.9960 - val_loss: 0.0485 - val_accuracy: 0.9872\n",
            "Epoch 10/15\n",
            "750/750 [==============================] - 3s 5ms/step - loss: 0.0105 - accuracy: 0.9965 - val_loss: 0.0389 - val_accuracy: 0.9911\n",
            "Epoch 11/15\n",
            "750/750 [==============================] - 3s 5ms/step - loss: 0.0094 - accuracy: 0.9967 - val_loss: 0.0435 - val_accuracy: 0.9893\n",
            "Epoch 12/15\n",
            "750/750 [==============================] - 3s 5ms/step - loss: 0.0084 - accuracy: 0.9971 - val_loss: 0.0522 - val_accuracy: 0.9896\n",
            "Epoch 13/15\n",
            "750/750 [==============================] - 3s 4ms/step - loss: 0.0063 - accuracy: 0.9980 - val_loss: 0.0579 - val_accuracy: 0.9873\n",
            "Epoch 14/15\n",
            "750/750 [==============================] - 4s 5ms/step - loss: 0.0061 - accuracy: 0.9979 - val_loss: 0.0408 - val_accuracy: 0.9921\n",
            "Epoch 15/15\n",
            "750/750 [==============================] - 4s 5ms/step - loss: 0.0069 - accuracy: 0.9974 - val_loss: 0.0375 - val_accuracy: 0.9908\n",
            "La durée sans GPU62.77073788642883\n"
          ]
        }
      ],
      "source": [
        "import time\n",
        "d = time.time()\n",
        "history = model.fit(train_data, train_labels_cat, \n",
        "                    epochs=15, batch_size=64,\n",
        "                    validation_split=0.2)\n",
        "f = time.time()\n",
        "print('La durée sans GPU' +str(f-d))"
      ]
    },
    {
      "cell_type": "code",
      "execution_count": null,
      "metadata": {
        "colab": {
          "base_uri": "https://localhost:8080/",
          "height": 295
        },
        "id": "KH1pwAbL7TVW",
        "outputId": "83d377d0-5f33-4812-c91e-5eb4a7515b76"
      },
      "outputs": [
        {
          "data": {
            "image/png": "[encoded data removed]",
            "text/plain": [
              "<Figure size 432x288 with 1 Axes>"
            ]
          },
          "metadata": {},
          "output_type": "display_data"
        }
      ],
      "source": [
        "# summarize history for accuracy\n",
        "import matplotlib.pyplot as plt\n",
        "plt.plot(history.history['accuracy'])\n",
        "plt.plot(history.history['val_accuracy'])\n",
        "plt.title('model accuracy')\n",
        "plt.ylabel('accuracy')\n",
        "plt.xlabel('epoch')\n",
        "plt.legend(['train', 'test'], loc='upper left')\n",
        "plt.show()"
      ]
    }
  ],
  "metadata": {
    "colab": {
      "provenance": [],
      "mount_file_id": "1SuW2bcR9PFBiFg6c3RzPZ0DWquMdp-nj",
      "authorship_tag": "ABX9TyMDzaYhfZA25su8cPKbPCYG",
      "include_colab_link": true
    },
    "gpuClass": "standard",
    "kernelspec": {
      "display_name": "Python 3",
      "name": "python3"
    },
    "language_info": {
      "name": "python"
    }
  },
  "nbformat": 4,
  "nbformat_minor": 0
}