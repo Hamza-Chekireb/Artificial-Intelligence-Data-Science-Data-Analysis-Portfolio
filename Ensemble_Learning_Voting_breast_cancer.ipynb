{
  "nbformat": 4,
  "nbformat_minor": 0,
  "metadata": {
    "colab": {
      "provenance": [],
      "include_colab_link": true
    },
    "kernelspec": {
      "display_name": "Python 3",
      "language": "python",
      "name": "python3"
    },
    "language_info": {
      "codemirror_mode": {
        "name": "ipython",
        "version": 3
      },
      "file_extension": ".py",
      "mimetype": "text/x-python",
      "name": "python",
      "nbconvert_exporter": "python",
      "pygments_lexer": "ipython3",
      "version": "3.7.0"
    },
    "toc": {
      "base_numbering": 1,
      "nav_menu": {},
      "number_sections": true,
      "sideBar": true,
      "skip_h1_title": false,
      "title_cell": "Table of Contents",
      "title_sidebar": "Contents",
      "toc_cell": false,
      "toc_position": {},
      "toc_section_display": true,
      "toc_window_display": false
    },
    "varInspector": {
      "cols": {
        "lenName": 16,
        "lenType": 16,
        "lenVar": 40
      },
      "kernels_config": {
        "python": {
          "delete_cmd_postfix": "",
          "delete_cmd_prefix": "del ",
          "library": "var_list.py",
          "varRefreshCmd": "print(var_dic_list())"
        },
        "r": {
          "delete_cmd_postfix": ") ",
          "delete_cmd_prefix": "rm(",
          "library": "var_list.r",
          "varRefreshCmd": "cat(var_dic_list()) "
        }
      },
      "types_to_exclude": [
        "module",
        "function",
        "builtin_function_or_method",
        "instance",
        "_Feature"
      ],
      "window_display": false
    }
  },
  "cells": [
    {
      "cell_type": "markdown",
      "metadata": {
        "id": "view-in-github",
        "colab_type": "text"
      },
      "source": [
        "<a href=\"https://colab.research.google.com/github/Hamza-Chekireb/Artificial-Intelligence-Data-Science-Data-Analysis-Portfolio/blob/main/Ensemble_Learning_Voting_breast_cancer.ipynb\" target=\"_parent\"><img src=\"https://colab.research.google.com/assets/colab-badge.svg\" alt=\"Open In Colab\"/></a>"
      ]
    },
    {
      "cell_type": "markdown",
      "metadata": {
        "id": "bcD3EN8-9I5S"
      },
      "source": [
        "### 1. Voting Ensemble:"
      ]
    },
    {
      "cell_type": "code",
      "metadata": {
        "id": "UN4ieJLx9I5V"
      },
      "source": [
        "import numpy as np\n",
        "import pandas as pd\n",
        "import warnings\n",
        "from sklearn.model_selection import train_test_split\n",
        "from sklearn.tree import DecisionTreeClassifier\n",
        "from sklearn.neighbors import KNeighborsClassifier\n",
        "from sklearn.linear_model import LogisticRegression\n",
        "from sklearn.ensemble import VotingClassifier\n",
        "from sklearn import metrics\n",
        "from sklearn.datasets import load_breast_cancer\n",
        "warnings.filterwarnings(action='ignore')                  # Turn off the warnings."
      ],
      "execution_count": null,
      "outputs": []
    },
    {
      "cell_type": "markdown",
      "metadata": {
        "id": "3u6rlBAO9I5X"
      },
      "source": [
        "#### 1.1. Read in data:"
      ]
    },
    {
      "cell_type": "code",
      "metadata": {
        "id": "TMacGbG69I5f"
      },
      "source": [
        "# Load data.\n",
        "data = load_breast_cancer()"
      ],
      "execution_count": null,
      "outputs": []
    },
    {
      "cell_type": "code",
      "metadata": {
        "colab": {
          "base_uri": "https://localhost:8080/"
        },
        "id": "MaHCvszu9I5i",
        "outputId": "4f3ebf93-85e2-4387-e402-9bb1f166d9ec"
      },
      "source": [
        "# Explanatory variables.\n",
        "X = data['data']\n",
        "print(data['feature_names'])"
      ],
      "execution_count": null,
      "outputs": [
        {
          "output_type": "stream",
          "text": [
            "['mean radius' 'mean texture' 'mean perimeter' 'mean area'\n",
            " 'mean smoothness' 'mean compactness' 'mean concavity'\n",
            " 'mean concave points' 'mean symmetry' 'mean fractal dimension'\n",
            " 'radius error' 'texture error' 'perimeter error' 'area error'\n",
            " 'smoothness error' 'compactness error' 'concavity error'\n",
            " 'concave points error' 'symmetry error' 'fractal dimension error'\n",
            " 'worst radius' 'worst texture' 'worst perimeter' 'worst area'\n",
            " 'worst smoothness' 'worst compactness' 'worst concavity'\n",
            " 'worst concave points' 'worst symmetry' 'worst fractal dimension']\n"
          ],
          "name": "stdout"
        }
      ]
    },
    {
      "cell_type": "code",
      "metadata": {
        "colab": {
          "base_uri": "https://localhost:8080/"
        },
        "id": "bukJKyKJ9I5k",
        "outputId": "bd1bbb7e-a731-43d7-a8e8-54d4e7954fd9"
      },
      "source": [
        "X.shape"
      ],
      "execution_count": null,
      "outputs": [
        {
          "output_type": "execute_result",
          "data": {
            "text/plain": [
              "(569, 30)"
            ]
          },
          "metadata": {
            "tags": []
          },
          "execution_count": 4
        }
      ]
    },
    {
      "cell_type": "code",
      "metadata": {
        "colab": {
          "base_uri": "https://localhost:8080/"
        },
        "id": "GJmzxSS59I5n",
        "outputId": "eee8aa01-f80b-4057-be37-8704c69d96e6"
      },
      "source": [
        "# Response variable.\n",
        "# Relabel such that 0 = 'benign' and 1 = malignant.\n",
        "Y = 1 - data['target']\n",
        "label = list(data['target_names'])\n",
        "label.reverse()\n",
        "print(label)"
      ],
      "execution_count": null,
      "outputs": [
        {
          "output_type": "stream",
          "text": [
            "['benign', 'malignant']\n"
          ],
          "name": "stdout"
        }
      ]
    },
    {
      "cell_type": "code",
      "metadata": {
        "id": "5u5LbN3-9I5q"
      },
      "source": [
        "X_train, X_test, Y_train, Y_test = train_test_split(X, Y, test_size=0.3, random_state=1234)"
      ],
      "execution_count": null,
      "outputs": []
    },
    {
      "cell_type": "markdown",
      "metadata": {
        "id": "99vFFuNK9I5s"
      },
      "source": [
        "#### 1.2. Predicting with individual estimator:\n",
        "\n",
        "\n",
        "Question 1 : Use Decision tree with max_depth=10, KNN with k = 5 and Logistic Regression to classify your data."
      ]
    },
    {
      "cell_type": "code",
      "metadata": {
        "id": "YGyRZM2N9I5t",
        "colab": {
          "base_uri": "https://localhost:8080/"
        },
        "outputId": "cf69457d-fb53-498c-8216-8ba44b72a829"
      },
      "source": [
        "# Classification Tree.\n",
        "tree = KNeighborsClassifier(max_depth=10)\n",
        "tree.fit(X_train,Y_train)\n",
        "Y_pred = tree.predict(X_test)\n",
        "print( \"Tree accuracy : \" + str(np.round(metrics.accuracy_score(Y_test,Y_pred),3)))"
      ],
      "execution_count": null,
      "outputs": [
        {
          "output_type": "stream",
          "text": [
            "Tree accuracy : 0.924\n"
          ],
          "name": "stdout"
        }
      ]
    },
    {
      "cell_type": "code",
      "metadata": {
        "id": "A6xyG89Q9I5t",
        "colab": {
          "base_uri": "https://localhost:8080/"
        },
        "outputId": "5f7cca41-b055-4bc3-bb9b-8cc3d5b2f935"
      },
      "source": [
        "# Classification with KNN\n",
        "knn = KNeighborsClassifier(5)\n",
        "knn.fit(X_train,Y_train)\n",
        "Y_pred = knn.predict(X_test)\n",
        "print( \"KNN accuracy : \" + str(np.round(metrics.accuracy_score(Y_test,Y_pred),3)))"
      ],
      "execution_count": null,
      "outputs": [
        {
          "output_type": "stream",
          "text": [
            "KNN accuracy : 0.936\n"
          ],
          "name": "stdout"
        }
      ]
    },
    {
      "cell_type": "code",
      "metadata": {
        "id": "NT1XJXFE9I5u",
        "colab": {
          "base_uri": "https://localhost:8080/"
        },
        "outputId": "08bad842-4cb4-421c-cb55-57d2b666cae1"
      },
      "source": [
        "# Classification with Logistic Regression.\n",
        "lg = LogisticRegression()\n",
        "lg.fit(X_train,Y_train)\n",
        "Y_pred = lg.predict(X_test)\n",
        "print( \"Logistic Reg accuracy : \" + str(np.round(metrics.accuracy_score(Y_test,Y_pred),3)))"
      ],
      "execution_count": null,
      "outputs": [
        {
          "output_type": "stream",
          "text": [
            "Logistic Reg accuracy : 0.918\n"
          ],
          "name": "stdout"
        }
      ]
    },
    {
      "cell_type": "markdown",
      "metadata": {
        "id": "3pDpKvwM9I5u"
      },
      "source": [
        "#### 1.3. Predicting with a voting ensemble:\n",
        "\n",
        "The EnsembleVoteClassifier is a meta-classifier for combining similar or conceptually different machine learning classifiers for classification via majority or plurality voting.In hard voting, we predict the final class label as the class label that has been predicted most frequently by the classification models\n",
        "\n",
        "Question:  \n",
        "\n",
        "- Use VotingClassifier () ensemble method with DTC, KNN, LR set voting to hard, then fit your training data. (hint : consider using the  `estimator` parameter )\n",
        "\n",
        "- Use VotingClassifier () ensemble method with DTC, KNN, LR set voting to soft, then fit your training data. \n",
        "\n",
        "-Compare the two results.\n",
        "\n",
        "\n",
        "https://www.geeksforgeeks.org/ml-voting-classifier-using-sklearn/"
      ]
    },
    {
      "cell_type": "code",
      "metadata": {
        "id": "QWR8dWqg9I5v",
        "colab": {
          "base_uri": "https://localhost:8080/"
        },
        "outputId": "a88a7047-25af-4057-f03a-d7ded75ba553"
      },
      "source": [
        "VC = VotingClassifier(estimators=[\n",
        "...         ('lr', lg), ('knn', knn), ('dct', tree)], voting='hard')\n",
        "VC.fit(X_train, Y_train)\n",
        "\n",
        "Y_pred = VC.predict(X_test)\n",
        "print( \"Voting Classifier Accuracy  using hard strategy : \" + str(np.round(metrics.accuracy_score(Y_test,Y_pred),3)))"
      ],
      "execution_count": null,
      "outputs": [
        {
          "output_type": "stream",
          "text": [
            "Voting Classifier Accuracy  using hard strategy : 0.953\n"
          ],
          "name": "stdout"
        }
      ]
    },
    {
      "cell_type": "code",
      "metadata": {
        "id": "k7UZuHpe9I5v",
        "colab": {
          "base_uri": "https://localhost:8080/"
        },
        "outputId": "eba8d9a5-063c-412d-abb0-ee42235fca3e"
      },
      "source": [
        "VC = VotingClassifier(estimators=[\n",
        "...         ('lr', lg), ('knn', knn), ('dct', tree)], voting='soft')\n",
        "VC.fit(X_train, Y_train)\n",
        "Y_pred = VC.predict(X_test)\n",
        "print( \"Voting Classifier Accuracy using soft strategy : \" + str(np.round(metrics.accuracy_score(Y_test,Y_pred),3)))"
      ],
      "execution_count": null,
      "outputs": [
        {
          "output_type": "stream",
          "text": [
            "Voting Classifier Accuracy using soft strategy : 0.947\n"
          ],
          "name": "stdout"
        }
      ]
    }
  ]
}