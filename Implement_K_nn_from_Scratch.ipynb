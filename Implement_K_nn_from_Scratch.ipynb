{
  "cells": [
    {
      "cell_type": "markdown",
      "metadata": {
        "id": "view-in-github",
        "colab_type": "text"
      },
      "source": [
        "<a href=\"https://colab.research.google.com/github/Hamza-Chekireb/Artificial-Intelligence-Data-Science-Data-Analysis-Portfolio/blob/main/Implement_K_nn_from_Scratch.ipynb\" target=\"_parent\"><img src=\"https://colab.research.google.com/assets/colab-badge.svg\" alt=\"Open In Colab\"/></a>"
      ]
    },
    {
      "cell_type": "markdown",
      "id": "c312d918",
      "metadata": {
        "id": "c312d918"
      },
      "source": [
        "# Objective\n"
      ]
    },
    {
      "cell_type": "markdown",
      "id": "0b164e29",
      "metadata": {
        "id": "0b164e29"
      },
      "source": [
        "Implement KNN from scratch on iris data. "
      ]
    },
    {
      "cell_type": "markdown",
      "id": "e6846a11",
      "metadata": {
        "id": "e6846a11"
      },
      "source": [
        "# 1. Handle Data"
      ]
    },
    {
      "cell_type": "markdown",
      "id": "660cdb21",
      "metadata": {
        "id": "660cdb21"
      },
      "source": [
        "The first thing we need to do is load our data file. "
      ]
    },
    {
      "cell_type": "code",
      "execution_count": null,
      "id": "5d76b2a3",
      "metadata": {
        "id": "5d76b2a3"
      },
      "outputs": [],
      "source": [
        "import csv"
      ]
    },
    {
      "cell_type": "code",
      "execution_count": null,
      "id": "fe3e4547",
      "metadata": {
        "id": "fe3e4547",
        "outputId": "3ea5f6b5-4b41-42b1-b8bd-316aadc2466d"
      },
      "outputs": [
        {
          "name": "stdout",
          "output_type": "stream",
          "text": [
            "5.1, 3.5, 1.4, 0.2, Iris-setosa\n",
            "4.9, 3.0, 1.4, 0.2, Iris-setosa\n",
            "4.7, 3.2, 1.3, 0.2, Iris-setosa\n",
            "4.6, 3.1, 1.5, 0.2, Iris-setosa\n",
            "5.0, 3.6, 1.4, 0.2, Iris-setosa\n",
            "5.4, 3.9, 1.7, 0.4, Iris-setosa\n",
            "4.6, 3.4, 1.4, 0.3, Iris-setosa\n",
            "5.0, 3.4, 1.5, 0.2, Iris-setosa\n",
            "4.4, 2.9, 1.4, 0.2, Iris-setosa\n",
            "4.9, 3.1, 1.5, 0.1, Iris-setosa\n",
            "5.4, 3.7, 1.5, 0.2, Iris-setosa\n",
            "4.8, 3.4, 1.6, 0.2, Iris-setosa\n",
            "4.8, 3.0, 1.4, 0.1, Iris-setosa\n",
            "4.3, 3.0, 1.1, 0.1, Iris-setosa\n",
            "5.8, 4.0, 1.2, 0.2, Iris-setosa\n",
            "5.7, 4.4, 1.5, 0.4, Iris-setosa\n",
            "5.4, 3.9, 1.3, 0.4, Iris-setosa\n",
            "5.1, 3.5, 1.4, 0.3, Iris-setosa\n",
            "5.7, 3.8, 1.7, 0.3, Iris-setosa\n",
            "5.1, 3.8, 1.5, 0.3, Iris-setosa\n",
            "5.4, 3.4, 1.7, 0.2, Iris-setosa\n",
            "5.1, 3.7, 1.5, 0.4, Iris-setosa\n",
            "4.6, 3.6, 1.0, 0.2, Iris-setosa\n",
            "5.1, 3.3, 1.7, 0.5, Iris-setosa\n",
            "4.8, 3.4, 1.9, 0.2, Iris-setosa\n",
            "5.0, 3.0, 1.6, 0.2, Iris-setosa\n",
            "5.0, 3.4, 1.6, 0.4, Iris-setosa\n",
            "5.2, 3.5, 1.5, 0.2, Iris-setosa\n",
            "5.2, 3.4, 1.4, 0.2, Iris-setosa\n",
            "4.7, 3.2, 1.6, 0.2, Iris-setosa\n",
            "4.8, 3.1, 1.6, 0.2, Iris-setosa\n",
            "5.4, 3.4, 1.5, 0.4, Iris-setosa\n",
            "5.2, 4.1, 1.5, 0.1, Iris-setosa\n",
            "5.5, 4.2, 1.4, 0.2, Iris-setosa\n",
            "4.9, 3.1, 1.5, 0.1, Iris-setosa\n",
            "5.0, 3.2, 1.2, 0.2, Iris-setosa\n",
            "5.5, 3.5, 1.3, 0.2, Iris-setosa\n",
            "4.9, 3.1, 1.5, 0.1, Iris-setosa\n",
            "4.4, 3.0, 1.3, 0.2, Iris-setosa\n",
            "5.1, 3.4, 1.5, 0.2, Iris-setosa\n",
            "5.0, 3.5, 1.3, 0.3, Iris-setosa\n",
            "4.5, 2.3, 1.3, 0.3, Iris-setosa\n",
            "4.4, 3.2, 1.3, 0.2, Iris-setosa\n",
            "5.0, 3.5, 1.6, 0.6, Iris-setosa\n",
            "5.1, 3.8, 1.9, 0.4, Iris-setosa\n",
            "4.8, 3.0, 1.4, 0.3, Iris-setosa\n",
            "5.1, 3.8, 1.6, 0.2, Iris-setosa\n",
            "4.6, 3.2, 1.4, 0.2, Iris-setosa\n",
            "5.3, 3.7, 1.5, 0.2, Iris-setosa\n",
            "5.0, 3.3, 1.4, 0.2, Iris-setosa\n",
            "7.0, 3.2, 4.7, 1.4, Iris-versicolor\n",
            "6.4, 3.2, 4.5, 1.5, Iris-versicolor\n",
            "6.9, 3.1, 4.9, 1.5, Iris-versicolor\n",
            "5.5, 2.3, 4.0, 1.3, Iris-versicolor\n",
            "6.5, 2.8, 4.6, 1.5, Iris-versicolor\n",
            "5.7, 2.8, 4.5, 1.3, Iris-versicolor\n",
            "6.3, 3.3, 4.7, 1.6, Iris-versicolor\n",
            "4.9, 2.4, 3.3, 1.0, Iris-versicolor\n",
            "6.6, 2.9, 4.6, 1.3, Iris-versicolor\n",
            "5.2, 2.7, 3.9, 1.4, Iris-versicolor\n",
            "5.0, 2.0, 3.5, 1.0, Iris-versicolor\n",
            "5.9, 3.0, 4.2, 1.5, Iris-versicolor\n",
            "6.0, 2.2, 4.0, 1.0, Iris-versicolor\n",
            "6.1, 2.9, 4.7, 1.4, Iris-versicolor\n",
            "5.6, 2.9, 3.6, 1.3, Iris-versicolor\n",
            "6.7, 3.1, 4.4, 1.4, Iris-versicolor\n",
            "5.6, 3.0, 4.5, 1.5, Iris-versicolor\n",
            "5.8, 2.7, 4.1, 1.0, Iris-versicolor\n",
            "6.2, 2.2, 4.5, 1.5, Iris-versicolor\n",
            "5.6, 2.5, 3.9, 1.1, Iris-versicolor\n",
            "5.9, 3.2, 4.8, 1.8, Iris-versicolor\n",
            "6.1, 2.8, 4.0, 1.3, Iris-versicolor\n",
            "6.3, 2.5, 4.9, 1.5, Iris-versicolor\n",
            "6.1, 2.8, 4.7, 1.2, Iris-versicolor\n",
            "6.4, 2.9, 4.3, 1.3, Iris-versicolor\n",
            "6.6, 3.0, 4.4, 1.4, Iris-versicolor\n",
            "6.8, 2.8, 4.8, 1.4, Iris-versicolor\n",
            "6.7, 3.0, 5.0, 1.7, Iris-versicolor\n",
            "6.0, 2.9, 4.5, 1.5, Iris-versicolor\n",
            "5.7, 2.6, 3.5, 1.0, Iris-versicolor\n",
            "5.5, 2.4, 3.8, 1.1, Iris-versicolor\n",
            "5.5, 2.4, 3.7, 1.0, Iris-versicolor\n",
            "5.8, 2.7, 3.9, 1.2, Iris-versicolor\n",
            "6.0, 2.7, 5.1, 1.6, Iris-versicolor\n",
            "5.4, 3.0, 4.5, 1.5, Iris-versicolor\n",
            "6.0, 3.4, 4.5, 1.6, Iris-versicolor\n",
            "6.7, 3.1, 4.7, 1.5, Iris-versicolor\n",
            "6.3, 2.3, 4.4, 1.3, Iris-versicolor\n",
            "5.6, 3.0, 4.1, 1.3, Iris-versicolor\n",
            "5.5, 2.5, 4.0, 1.3, Iris-versicolor\n",
            "5.5, 2.6, 4.4, 1.2, Iris-versicolor\n",
            "6.1, 3.0, 4.6, 1.4, Iris-versicolor\n",
            "5.8, 2.6, 4.0, 1.2, Iris-versicolor\n",
            "5.0, 2.3, 3.3, 1.0, Iris-versicolor\n",
            "5.6, 2.7, 4.2, 1.3, Iris-versicolor\n",
            "5.7, 3.0, 4.2, 1.2, Iris-versicolor\n",
            "5.7, 2.9, 4.2, 1.3, Iris-versicolor\n",
            "6.2, 2.9, 4.3, 1.3, Iris-versicolor\n",
            "5.1, 2.5, 3.0, 1.1, Iris-versicolor\n",
            "5.7, 2.8, 4.1, 1.3, Iris-versicolor\n",
            "6.3, 3.3, 6.0, 2.5, Iris-virginica\n",
            "5.8, 2.7, 5.1, 1.9, Iris-virginica\n",
            "7.1, 3.0, 5.9, 2.1, Iris-virginica\n",
            "6.3, 2.9, 5.6, 1.8, Iris-virginica\n",
            "6.5, 3.0, 5.8, 2.2, Iris-virginica\n",
            "7.6, 3.0, 6.6, 2.1, Iris-virginica\n",
            "4.9, 2.5, 4.5, 1.7, Iris-virginica\n",
            "7.3, 2.9, 6.3, 1.8, Iris-virginica\n",
            "6.7, 2.5, 5.8, 1.8, Iris-virginica\n",
            "7.2, 3.6, 6.1, 2.5, Iris-virginica\n",
            "6.5, 3.2, 5.1, 2.0, Iris-virginica\n",
            "6.4, 2.7, 5.3, 1.9, Iris-virginica\n",
            "6.8, 3.0, 5.5, 2.1, Iris-virginica\n",
            "5.7, 2.5, 5.0, 2.0, Iris-virginica\n",
            "5.8, 2.8, 5.1, 2.4, Iris-virginica\n",
            "6.4, 3.2, 5.3, 2.3, Iris-virginica\n",
            "6.5, 3.0, 5.5, 1.8, Iris-virginica\n",
            "7.7, 3.8, 6.7, 2.2, Iris-virginica\n",
            "7.7, 2.6, 6.9, 2.3, Iris-virginica\n",
            "6.0, 2.2, 5.0, 1.5, Iris-virginica\n",
            "6.9, 3.2, 5.7, 2.3, Iris-virginica\n",
            "5.6, 2.8, 4.9, 2.0, Iris-virginica\n",
            "7.7, 2.8, 6.7, 2.0, Iris-virginica\n",
            "6.3, 2.7, 4.9, 1.8, Iris-virginica\n",
            "6.7, 3.3, 5.7, 2.1, Iris-virginica\n",
            "7.2, 3.2, 6.0, 1.8, Iris-virginica\n",
            "6.2, 2.8, 4.8, 1.8, Iris-virginica\n",
            "6.1, 3.0, 4.9, 1.8, Iris-virginica\n",
            "6.4, 2.8, 5.6, 2.1, Iris-virginica\n",
            "7.2, 3.0, 5.8, 1.6, Iris-virginica\n",
            "7.4, 2.8, 6.1, 1.9, Iris-virginica\n",
            "7.9, 3.8, 6.4, 2.0, Iris-virginica\n",
            "6.4, 2.8, 5.6, 2.2, Iris-virginica\n",
            "6.3, 2.8, 5.1, 1.5, Iris-virginica\n",
            "6.1, 2.6, 5.6, 1.4, Iris-virginica\n",
            "7.7, 3.0, 6.1, 2.3, Iris-virginica\n",
            "6.3, 3.4, 5.6, 2.4, Iris-virginica\n",
            "6.4, 3.1, 5.5, 1.8, Iris-virginica\n",
            "6.0, 3.0, 4.8, 1.8, Iris-virginica\n",
            "6.9, 3.1, 5.4, 2.1, Iris-virginica\n",
            "6.7, 3.1, 5.6, 2.4, Iris-virginica\n",
            "6.9, 3.1, 5.1, 2.3, Iris-virginica\n",
            "5.8, 2.7, 5.1, 1.9, Iris-virginica\n",
            "6.8, 3.2, 5.9, 2.3, Iris-virginica\n",
            "6.7, 3.3, 5.7, 2.5, Iris-virginica\n",
            "6.7, 3.0, 5.2, 2.3, Iris-virginica\n",
            "6.3, 2.5, 5.0, 1.9, Iris-virginica\n",
            "6.5, 3.0, 5.2, 2.0, Iris-virginica\n",
            "6.2, 3.4, 5.4, 2.3, Iris-virginica\n",
            "5.9, 3.0, 5.1, 1.8, Iris-virginica\n"
          ]
        }
      ],
      "source": [
        "with open('C:/Users/dell/Downloads/iris.data.txt', 'r') as csvfile:\n",
        " lines = csv.reader(csvfile)\n",
        " for row in lines :\n",
        "    print (', '.join(row))"
      ]
    },
    {
      "cell_type": "markdown",
      "id": "fdbf9b83",
      "metadata": {
        "id": "fdbf9b83"
      },
      "source": [
        "Next we need to split the data into a training dataset "
      ]
    },
    {
      "cell_type": "code",
      "execution_count": null,
      "id": "f7d7abd8",
      "metadata": {
        "id": "f7d7abd8"
      },
      "outputs": [],
      "source": [
        "import random\n",
        "def loadDataset(filename, split, trainingSet=[] , testSet=[]):\n",
        "    with open(filename, 'r') as csvfile:\n",
        "        lines = csv.reader(csvfile)\n",
        "        dataset = list(lines)\n",
        "    for x in range(len(dataset)-1):\n",
        "      for y in range(4):\n",
        "          dataset[x][y] = float(dataset[x][y])\n",
        "      if random.random() < split:\n",
        "         trainingSet.append(dataset[x])\n",
        "      else:\n",
        "         testSet.append(dataset[x])"
      ]
    },
    {
      "cell_type": "markdown",
      "id": "ef4b4097",
      "metadata": {
        "id": "ef4b4097"
      },
      "source": [
        "We can test this function out with our iris dataset, as follows:"
      ]
    },
    {
      "cell_type": "code",
      "execution_count": null,
      "id": "95876bf3",
      "metadata": {
        "id": "95876bf3",
        "outputId": "505008ec-2488-47cd-d950-282a7de37867"
      },
      "outputs": [
        {
          "name": "stdout",
          "output_type": "stream",
          "text": [
            "Train: 99\n",
            "Test: 50\n"
          ]
        }
      ],
      "source": [
        "trainingSet=[]\n",
        "testSet=[]\n",
        "split = 0.66\n",
        "file='C:/Users/dell/Downloads/iris.data.txt'\n",
        "loadDataset(file,split,trainingSet,testSet)\n",
        "print ('Train: ' + repr(len(trainingSet)))\n",
        "print ('Test: ' + repr(len(testSet)) )\n"
      ]
    },
    {
      "cell_type": "markdown",
      "id": "511c7bf3",
      "metadata": {
        "id": "511c7bf3"
      },
      "source": [
        "# 2. Similarity"
      ]
    },
    {
      "cell_type": "markdown",
      "id": "ef4426f0",
      "metadata": {
        "id": "ef4426f0"
      },
      "source": [
        "We have to define the Euclidean distance"
      ]
    },
    {
      "cell_type": "code",
      "execution_count": null,
      "id": "5a6228c7",
      "metadata": {
        "id": "5a6228c7"
      },
      "outputs": [],
      "source": [
        "import math\n",
        "def euclideanDistance(instance1, instance2, length):\n",
        "    distanceCarr = 0\n",
        "    for i in range(length):\n",
        "        distanceCarr=distanceCarr+ pow((instance1[i] - instance2[i]), 2)\n",
        "    distance=math.sqrt(distanceCarr)\n",
        "    return distance"
      ]
    },
    {
      "cell_type": "markdown",
      "id": "ab72463d",
      "metadata": {
        "id": "ab72463d"
      },
      "source": [
        "We can test this function with some sample data, as follows:"
      ]
    },
    {
      "cell_type": "code",
      "execution_count": null,
      "id": "49ae623d",
      "metadata": {
        "id": "49ae623d",
        "outputId": "44b9d57a-dbe9-4c40-9f43-d18faab9ca22"
      },
      "outputs": [
        {
          "name": "stdout",
          "output_type": "stream",
          "text": [
            "Distance:3.4641016151377544\n"
          ]
        }
      ],
      "source": [
        "data1 = [2, 2, 2, 'a']\n",
        "data2 = [4, 4, 4, 'b']\n",
        "distance = euclideanDistance(data1, data2, 3)\n",
        "print('Distance:'+ repr(distance))"
      ]
    },
    {
      "cell_type": "markdown",
      "id": "1ccf7c5a",
      "metadata": {
        "id": "1ccf7c5a"
      },
      "source": [
        "# 3. Neighbors"
      ]
    },
    {
      "cell_type": "markdown",
      "id": "bd6b92cc",
      "metadata": {
        "id": "bd6b92cc"
      },
      "source": [
        " The getNeighbors function given below returns k most similar neighbors from the training set for a given test instance (using the already defined euclideanDistance function)"
      ]
    },
    {
      "cell_type": "code",
      "execution_count": null,
      "id": "ccaf0828",
      "metadata": {
        "id": "ccaf0828"
      },
      "outputs": [],
      "source": [
        "import operator\n",
        "def getNeighbors(trainingSet, testInstance, k):\n",
        "    distances = []\n",
        "    length = len(testInstance)-1\n",
        "    for x in range(len(trainingSet)):\n",
        "        dist = euclideanDistance(testInstance, trainingSet[x], length)\n",
        "        distances.append((trainingSet[x], dist))\n",
        "    distances.sort(key=operator.itemgetter(1))\n",
        "    neighbors = []\n",
        "    for x in range(k):\n",
        "        neighbors.append(distances[x][0])\n",
        "    return neighbors"
      ]
    },
    {
      "cell_type": "markdown",
      "id": "c26f2f97",
      "metadata": {
        "id": "c26f2f97"
      },
      "source": [
        "We can test out this function as follows:"
      ]
    },
    {
      "cell_type": "code",
      "execution_count": null,
      "id": "5403f41e",
      "metadata": {
        "id": "5403f41e",
        "outputId": "d8c7797b-59e3-4210-9be3-0450464d0c28"
      },
      "outputs": [
        {
          "name": "stdout",
          "output_type": "stream",
          "text": [
            "[[4, 4, 4, 'b']]\n"
          ]
        }
      ],
      "source": [
        "trainSet = [[2, 2, 2, 'a'], [4, 4, 4, 'b']]\n",
        "testInstance = [5, 5, 5]\n",
        "k = 1\n",
        "neighbors = getNeighbors(trainSet, testInstance, 1)\n",
        "print(neighbors)"
      ]
    },
    {
      "cell_type": "markdown",
      "id": "3ea60234",
      "metadata": {
        "id": "3ea60234"
      },
      "source": [
        "# 4. Response"
      ]
    },
    {
      "cell_type": "markdown",
      "id": "34d7824d",
      "metadata": {
        "id": "34d7824d"
      },
      "source": [
        "The function given below is for getting the majority voted response from a number of neighbors. It assumes the class is the last attribute for each neighbor."
      ]
    },
    {
      "cell_type": "code",
      "execution_count": null,
      "id": "c8a66815",
      "metadata": {
        "id": "c8a66815"
      },
      "outputs": [],
      "source": [
        "import operator\n",
        "def getResponse(neighbors):\n",
        "    classVotes = {}\n",
        "    for i in range(len(neighbors)):\n",
        "        response = neighbors[i][-1] \n",
        "        if response in classVotes:\n",
        "            classVotes[response] = classVotes[response]+1\n",
        "        else:\n",
        "            classVotes[response] = 1\n",
        "    sortedVotes = sorted(classVotes.items(), key=operator.itemgetter(1), reverse=True)\n",
        "    return sortedVotes[0][0]"
      ]
    },
    {
      "cell_type": "markdown",
      "id": "0a666031",
      "metadata": {
        "id": "0a666031"
      },
      "source": [
        "We can test out this function with some test neighbors, as follows:"
      ]
    },
    {
      "cell_type": "code",
      "execution_count": null,
      "id": "7c93839a",
      "metadata": {
        "id": "7c93839a",
        "outputId": "e409d9d6-e3b2-4358-f4c2-da0db8340fca"
      },
      "outputs": [
        {
          "name": "stdout",
          "output_type": "stream",
          "text": [
            "a\n"
          ]
        }
      ],
      "source": [
        "neighbors = [[1,1,1,'a'], [2,2,2,'a'], [3,3,3,'b']]\n",
        "response = getResponse(neighbors)\n",
        "print(response)"
      ]
    },
    {
      "cell_type": "markdown",
      "id": "78bdb6d3",
      "metadata": {
        "id": "78bdb6d3"
      },
      "source": [
        "# 5. Accuracy"
      ]
    },
    {
      "cell_type": "markdown",
      "id": "6008b18a",
      "metadata": {
        "id": "6008b18a"
      },
      "source": [
        "The getAccuracy function given below sums the total correct predictions and returns the accuracy as a percentage of correct classifications."
      ]
    },
    {
      "cell_type": "code",
      "execution_count": null,
      "id": "5efa85e3",
      "metadata": {
        "id": "5efa85e3"
      },
      "outputs": [],
      "source": [
        "def getAccuracy(testSet, predictions):\n",
        "    correct = 0\n",
        "    for i in range(len(testSet)):\n",
        "        if testSet[i][-1] == predictions[i]:\n",
        "            correct=correct+1\n",
        "    accuracy=(correct/float(len(testSet))) * 100.0\n",
        "    return accuracy"
      ]
    },
    {
      "cell_type": "markdown",
      "id": "8c36be56",
      "metadata": {
        "id": "8c36be56"
      },
      "source": [
        "We can test this function with a test dataset and predictions, as follows:"
      ]
    },
    {
      "cell_type": "code",
      "execution_count": null,
      "id": "41c638aa",
      "metadata": {
        "id": "41c638aa",
        "outputId": "cdae3d94-aa71-44f1-f419-97de4337a994"
      },
      "outputs": [
        {
          "name": "stdout",
          "output_type": "stream",
          "text": [
            "66.66666666666666\n"
          ]
        }
      ],
      "source": [
        "testSet = [[1,1,1,'a'], [2,2,2,'a'], [3,3,3,'b']]\n",
        "predictions = ['a', 'a', 'a']\n",
        "accuracy = getAccuracy(testSet, predictions)\n",
        "print(accuracy)"
      ]
    },
    {
      "cell_type": "markdown",
      "id": "4049058b",
      "metadata": {
        "id": "4049058b"
      },
      "source": [
        "# 6. Main"
      ]
    },
    {
      "cell_type": "code",
      "execution_count": null,
      "id": "41573253",
      "metadata": {
        "id": "41573253",
        "outputId": "63db358c-9c5e-44e4-9d79-7d3c22258e9b"
      },
      "outputs": [
        {
          "name": "stdout",
          "output_type": "stream",
          "text": [
            "Train set: 98\n",
            "Test set: 51\n",
            "Accuracy:  96.07843137254902\n"
          ]
        }
      ],
      "source": [
        "trainingSet=[]\n",
        "testSet=[]\n",
        "split = 0.67\n",
        "loadDataset('C:/Users/dell/Downloads/iris.data.txt', split, trainingSet, testSet)\n",
        "print('Train set: ' + repr(len(trainingSet)))\n",
        "print('Test set: ' + repr(len(testSet)))    \n",
        "predictions=[]\n",
        "k = 3\n",
        "for i in range(len(testSet)):\n",
        "    neighbors = getNeighbors(trainingSet, testSet[i], k)\n",
        "    result = getResponse(neighbors)\n",
        "    predictions.append(result)\n",
        "      \n",
        "accuracy = getAccuracy(testSet, predictions)\n",
        "print('Accuracy: ', accuracy)"
      ]
    }
  ],
  "metadata": {
    "kernelspec": {
      "display_name": "Python 3 (ipykernel)",
      "language": "python",
      "name": "python3"
    },
    "language_info": {
      "codemirror_mode": {
        "name": "ipython",
        "version": 3
      },
      "file_extension": ".py",
      "mimetype": "text/x-python",
      "name": "python",
      "nbconvert_exporter": "python",
      "pygments_lexer": "ipython3",
      "version": "3.9.7"
    },
    "colab": {
      "provenance": [],
      "include_colab_link": true
    }
  },
  "nbformat": 4,
  "nbformat_minor": 5
}